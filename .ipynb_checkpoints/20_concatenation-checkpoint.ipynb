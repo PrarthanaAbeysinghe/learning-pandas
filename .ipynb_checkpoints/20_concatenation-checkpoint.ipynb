{
 "cells": [
  {
   "cell_type": "code",
   "execution_count": 1,
   "metadata": {},
   "outputs": [],
   "source": [
    "# pd.concat(objs, axis=0, join='outer', join_axes=None, ignore_index=False)\n",
    "\n",
    "# objs - a sequence or mapping of Series, DataFrame, or Panel objects\n",
    "# axis - {0, 1, ...}, default 0. this is the axis to concatenate along\n",
    "# join - {'inner', 'outer'}, default 'outer'.\n",
    "#        OUTER = Union\n",
    "#        INNER = intersection\n",
    "# ignore_index - boolean, default False. if True, do not use the index values on the concatenation axis\n",
    "# join_axes - the list of index objects. specific indexes to use for the other (n-1) axes instead of performing\n",
    "#             inner/outer set logic."
   ]
  },
  {
   "cell_type": "code",
   "execution_count": 2,
   "metadata": {},
   "outputs": [],
   "source": [
    "import pandas as pd"
   ]
  },
  {
   "cell_type": "code",
   "execution_count": 5,
   "metadata": {},
   "outputs": [
    {
     "name": "stdout",
     "output_type": "stream",
     "text": [
      "One:\n",
      "   Marks_scored    Name subject_id\n",
      "1            98    Alex       sub1\n",
      "2            90     Amy       sub2\n",
      "3            87   Allen       sub4\n",
      "4            69   Alice       sub6\n",
      "5            78  Ayoung       sub5\n",
      "Two:\n",
      "   Marks_scored   Name subject_id\n",
      "1            89  Billy       sub2\n",
      "2            80  Brian       sub4\n",
      "3            79   Bran       sub3\n",
      "4            97  Bryce       sub6\n",
      "5            88  Betty       sub5\n"
     ]
    }
   ],
   "source": [
    "one = pd.DataFrame({\n",
    "    'Name': ['Alex', 'Amy', 'Allen', 'Alice', 'Ayoung'],\n",
    "    'subject_id': ['sub1', 'sub2', 'sub4', 'sub6', 'sub5'],\n",
    "    'Marks_scored': [98,90,87,69,78]\n",
    "}, index=[1,2,3,4,5])\n",
    "\n",
    "two = pd.DataFrame({\n",
    "    'Name': ['Billy', 'Brian', 'Bran', 'Bryce', 'Betty'],\n",
    "    'subject_id': ['sub2', 'sub4', 'sub3', 'sub6', 'sub5'],\n",
    "    'Marks_scored': [89,80,79,97,88]\n",
    "}, index=[1,2,3,4,5])\n",
    "\n",
    "print(\"One:\")\n",
    "print(one)\n",
    "\n",
    "print(\"Two:\")\n",
    "print(two)"
   ]
  },
  {
   "cell_type": "code",
   "execution_count": 6,
   "metadata": {},
   "outputs": [
    {
     "name": "stdout",
     "output_type": "stream",
     "text": [
      "   Marks_scored    Name subject_id\n",
      "1            98    Alex       sub1\n",
      "2            90     Amy       sub2\n",
      "3            87   Allen       sub4\n",
      "4            69   Alice       sub6\n",
      "5            78  Ayoung       sub5\n",
      "1            89   Billy       sub2\n",
      "2            80   Brian       sub4\n",
      "3            79    Bran       sub3\n",
      "4            97   Bryce       sub6\n",
      "5            88   Betty       sub5\n"
     ]
    }
   ],
   "source": [
    "print(pd.concat([one, two]))"
   ]
  },
  {
   "cell_type": "code",
   "execution_count": 8,
   "metadata": {},
   "outputs": [
    {
     "name": "stdout",
     "output_type": "stream",
     "text": [
      "     Marks_scored    Name subject_id\n",
      "x 1            98    Alex       sub1\n",
      "  2            90     Amy       sub2\n",
      "  3            87   Allen       sub4\n",
      "  4            69   Alice       sub6\n",
      "  5            78  Ayoung       sub5\n",
      "y 1            89   Billy       sub2\n",
      "  2            80   Brian       sub4\n",
      "  3            79    Bran       sub3\n",
      "  4            97   Bryce       sub6\n",
      "  5            88   Betty       sub5\n"
     ]
    }
   ],
   "source": [
    "# to associate specific keys with each of the pieces of the chipped up DataFrame\n",
    "print(pd.concat([one, two], keys=['x', 'y']))"
   ]
  },
  {
   "cell_type": "code",
   "execution_count": 9,
   "metadata": {},
   "outputs": [
    {
     "name": "stdout",
     "output_type": "stream",
     "text": [
      "   Marks_scored    Name subject_id\n",
      "0            98    Alex       sub1\n",
      "1            90     Amy       sub2\n",
      "2            87   Allen       sub4\n",
      "3            69   Alice       sub6\n",
      "4            78  Ayoung       sub5\n",
      "5            89   Billy       sub2\n",
      "6            80   Brian       sub4\n",
      "7            79    Bran       sub3\n",
      "8            97   Bryce       sub6\n",
      "9            88   Betty       sub5\n"
     ]
    }
   ],
   "source": [
    "# if the resultant object has to follown its own indexing, set ignore_index=True\n",
    "print(pd.concat([one, two], keys=['x', 'y'], ignore_index=True))"
   ]
  },
  {
   "cell_type": "code",
   "execution_count": 10,
   "metadata": {},
   "outputs": [
    {
     "name": "stdout",
     "output_type": "stream",
     "text": [
      "   Marks_scored    Name subject_id  Marks_scored   Name subject_id\n",
      "1            98    Alex       sub1            89  Billy       sub2\n",
      "2            90     Amy       sub2            80  Brian       sub4\n",
      "3            87   Allen       sub4            79   Bran       sub3\n",
      "4            69   Alice       sub6            97  Bryce       sub6\n",
      "5            78  Ayoung       sub5            88  Betty       sub5\n"
     ]
    }
   ],
   "source": [
    "# if two objects need to be added along axis=1, then the new columns will be appended\n",
    "print(pd.concat([one, two], axis=1))"
   ]
  },
  {
   "cell_type": "code",
   "execution_count": 12,
   "metadata": {},
   "outputs": [
    {
     "name": "stdout",
     "output_type": "stream",
     "text": [
      "   Marks_scored    Name subject_id\n",
      "1            98    Alex       sub1\n",
      "2            90     Amy       sub2\n",
      "3            87   Allen       sub4\n",
      "4            69   Alice       sub6\n",
      "5            78  Ayoung       sub5\n",
      "1            89   Billy       sub2\n",
      "2            80   Brian       sub4\n",
      "3            79    Bran       sub3\n",
      "4            97   Bryce       sub6\n",
      "5            88   Betty       sub5\n"
     ]
    }
   ],
   "source": [
    "# concatenating using append\n",
    "print(one.append(two))"
   ]
  },
  {
   "cell_type": "code",
   "execution_count": 13,
   "metadata": {},
   "outputs": [
    {
     "name": "stdout",
     "output_type": "stream",
     "text": [
      "   Marks_scored    Name subject_id\n",
      "1            98    Alex       sub1\n",
      "2            90     Amy       sub2\n",
      "3            87   Allen       sub4\n",
      "4            69   Alice       sub6\n",
      "5            78  Ayoung       sub5\n",
      "1            89   Billy       sub2\n",
      "2            80   Brian       sub4\n",
      "3            79    Bran       sub3\n",
      "4            97   Bryce       sub6\n",
      "5            88   Betty       sub5\n",
      "1            98    Alex       sub1\n",
      "2            90     Amy       sub2\n",
      "3            87   Allen       sub4\n",
      "4            69   Alice       sub6\n",
      "5            78  Ayoung       sub5\n",
      "1            89   Billy       sub2\n",
      "2            80   Brian       sub4\n",
      "3            79    Bran       sub3\n",
      "4            97   Bryce       sub6\n",
      "5            88   Betty       sub5\n"
     ]
    }
   ],
   "source": [
    "# append function take with multiple objects\n",
    "print(one.append([two, one, two]))"
   ]
  },
  {
   "cell_type": "code",
   "execution_count": null,
   "metadata": {},
   "outputs": [],
   "source": []
  }
 ],
 "metadata": {
  "kernelspec": {
   "display_name": "Python 3",
   "language": "python",
   "name": "python3"
  },
  "language_info": {
   "codemirror_mode": {
    "name": "ipython",
    "version": 3
   },
   "file_extension": ".py",
   "mimetype": "text/x-python",
   "name": "python",
   "nbconvert_exporter": "python",
   "pygments_lexer": "ipython3",
   "version": "3.6.4"
  }
 },
 "nbformat": 4,
 "nbformat_minor": 2
}
