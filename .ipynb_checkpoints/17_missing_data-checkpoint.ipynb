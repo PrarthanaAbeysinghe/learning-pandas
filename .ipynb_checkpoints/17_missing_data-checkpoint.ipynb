{
 "cells": [
  {
   "cell_type": "code",
   "execution_count": 1,
   "metadata": {},
   "outputs": [],
   "source": [
    "# Missing data is always a problem in real life scenarios\n",
    "# Let us see how we can handle missing values (NA or NaN) using Pandas"
   ]
  },
  {
   "cell_type": "code",
   "execution_count": 2,
   "metadata": {},
   "outputs": [],
   "source": [
    "import pandas as pd\n",
    "import numpy as np"
   ]
  },
  {
   "cell_type": "code",
   "execution_count": 4,
   "metadata": {},
   "outputs": [
    {
     "name": "stdout",
     "output_type": "stream",
     "text": [
      "        one       two     three\n",
      "a -0.597408 -0.925170  0.142090\n",
      "b       NaN       NaN       NaN\n",
      "c -1.880841  1.929226 -1.787383\n",
      "d       NaN       NaN       NaN\n",
      "e  1.349597  0.929139  3.240791\n",
      "f  1.139649 -0.138620  0.387304\n",
      "g       NaN       NaN       NaN\n",
      "h  0.349733 -0.286408  0.313719\n"
     ]
    }
   ],
   "source": [
    "df1 = pd.DataFrame(np.random.randn(5, 3),\n",
    "                  index=['a', 'c', 'e', 'f', 'h'],\n",
    "                  columns=['one', 'two', 'three'])\n",
    "# reindex used to create a DataFrame with missing values\n",
    "df1 = df1.reindex(['a', 'b', 'c', 'd', 'e', 'f', 'g', 'h'])\n",
    "print(df1)"
   ]
  },
  {
   "cell_type": "code",
   "execution_count": 5,
   "metadata": {},
   "outputs": [
    {
     "name": "stdout",
     "output_type": "stream",
     "text": [
      "a    False\n",
      "b     True\n",
      "c    False\n",
      "d     True\n",
      "e    False\n",
      "f    False\n",
      "g     True\n",
      "h    False\n",
      "Name: one, dtype: bool\n"
     ]
    }
   ],
   "source": [
    "# Check for missing values\n",
    "# isnull()\n",
    "print(df1['one'].isnull())"
   ]
  },
  {
   "cell_type": "code",
   "execution_count": 6,
   "metadata": {},
   "outputs": [
    {
     "name": "stdout",
     "output_type": "stream",
     "text": [
      "a     True\n",
      "b    False\n",
      "c     True\n",
      "d    False\n",
      "e     True\n",
      "f     True\n",
      "g    False\n",
      "h     True\n",
      "Name: one, dtype: bool\n"
     ]
    }
   ],
   "source": [
    "# notnull()\n",
    "print(df1['one'].notnull())"
   ]
  },
  {
   "cell_type": "code",
   "execution_count": 7,
   "metadata": {},
   "outputs": [
    {
     "name": "stdout",
     "output_type": "stream",
     "text": [
      "0.36073001594779885\n"
     ]
    }
   ],
   "source": [
    "# calculations with missing data\n",
    "# when summing, NA will be treated as zero\n",
    "# if the data are all NA, then the result will be NA\n",
    "print(df1['one'].sum())"
   ]
  },
  {
   "cell_type": "code",
   "execution_count": 9,
   "metadata": {},
   "outputs": [
    {
     "name": "stdout",
     "output_type": "stream",
     "text": [
      "   one  two\n",
      "0  NaN  NaN\n",
      "1  NaN  NaN\n",
      "2  NaN  NaN\n",
      "3  NaN  NaN\n",
      "4  NaN  NaN\n",
      "5  NaN  NaN\n",
      "SUM of column 'one':\n",
      "0\n"
     ]
    }
   ],
   "source": [
    "df2 = pd.DataFrame(index=[0, 1, 2, 3, 4, 5], columns=['one', 'two'])\n",
    "print(df2)\n",
    "print(\"SUM of column 'one':\")\n",
    "print(df2['one'].sum())"
   ]
  },
  {
   "cell_type": "code",
   "execution_count": 12,
   "metadata": {},
   "outputs": [
    {
     "name": "stdout",
     "output_type": "stream",
     "text": [
      "        one       two     three\n",
      "a -0.564644 -0.862081 -1.713962\n",
      "c  0.559825  2.060316 -0.125762\n",
      "e -0.467817  0.473137  0.808570\n",
      "        one       two     three\n",
      "a -0.564644 -0.862081 -1.713962\n",
      "b       NaN       NaN       NaN\n",
      "c  0.559825  2.060316 -0.125762\n",
      "NaN replaces with '0':\n",
      "        one       two     three\n",
      "a -0.564644 -0.862081 -1.713962\n",
      "b  0.000000  0.000000  0.000000\n",
      "c  0.559825  2.060316 -0.125762\n"
     ]
    }
   ],
   "source": [
    "# CLEANING / FILLING MISSING DATA\n",
    "\n",
    "# replace NaN with a scalar value\n",
    "df3 = pd.DataFrame(np.random.randn(3, 3),\n",
    "                  index=['a', 'c', 'e'],\n",
    "                  columns=['one', 'two', 'three'])\n",
    "print(df3)\n",
    "df3 = df3.reindex(['a', 'b', 'c'])\n",
    "print(df3)\n",
    "print(\"NaN replaces with '0':\")\n",
    "print(df3.fillna(0))"
   ]
  },
  {
   "cell_type": "code",
   "execution_count": 14,
   "metadata": {},
   "outputs": [
    {
     "name": "stdout",
     "output_type": "stream",
     "text": [
      "        one       two     three\n",
      "a -0.597408 -0.925170  0.142090\n",
      "b       NaN       NaN       NaN\n",
      "c -1.880841  1.929226 -1.787383\n",
      "d       NaN       NaN       NaN\n",
      "e  1.349597  0.929139  3.240791\n",
      "f  1.139649 -0.138620  0.387304\n",
      "g       NaN       NaN       NaN\n",
      "h  0.349733 -0.286408  0.313719\n",
      "Fill methods forward:\n",
      "        one       two     three\n",
      "a -0.597408 -0.925170  0.142090\n",
      "b -0.597408 -0.925170  0.142090\n",
      "c -1.880841  1.929226 -1.787383\n",
      "d -1.880841  1.929226 -1.787383\n",
      "e  1.349597  0.929139  3.240791\n",
      "f  1.139649 -0.138620  0.387304\n",
      "g  1.139649 -0.138620  0.387304\n",
      "h  0.349733 -0.286408  0.313719\n"
     ]
    }
   ],
   "source": [
    "# fill NA forward and backward\n",
    "\n",
    "# pad/fill - fill methods forward\n",
    "# bfill/backfill - fill methods backward\n",
    "\n",
    "print(df1)\n",
    "print(\"Fill methods forward:\")\n",
    "print(df1.fillna(method='pad'))"
   ]
  },
  {
   "cell_type": "code",
   "execution_count": 16,
   "metadata": {},
   "outputs": [
    {
     "name": "stdout",
     "output_type": "stream",
     "text": [
      "Fill methods backward:\n",
      "        one       two     three\n",
      "a -0.597408 -0.925170  0.142090\n",
      "b -1.880841  1.929226 -1.787383\n",
      "c -1.880841  1.929226 -1.787383\n",
      "d  1.349597  0.929139  3.240791\n",
      "e  1.349597  0.929139  3.240791\n",
      "f  1.139649 -0.138620  0.387304\n",
      "g  0.349733 -0.286408  0.313719\n",
      "h  0.349733 -0.286408  0.313719\n"
     ]
    }
   ],
   "source": [
    "print(\"Fill methods backward:\")\n",
    "print(df1.fillna(method='backfill'))"
   ]
  },
  {
   "cell_type": "code",
   "execution_count": 18,
   "metadata": {},
   "outputs": [
    {
     "name": "stdout",
     "output_type": "stream",
     "text": [
      "        one       two     three\n",
      "a -0.597408 -0.925170  0.142090\n",
      "b       NaN       NaN       NaN\n",
      "c -1.880841  1.929226 -1.787383\n",
      "d       NaN       NaN       NaN\n",
      "e  1.349597  0.929139  3.240791\n",
      "f  1.139649 -0.138620  0.387304\n",
      "g       NaN       NaN       NaN\n",
      "h  0.349733 -0.286408  0.313719\n",
      "After dropping missing values along rows:\n",
      "        one       two     three\n",
      "a -0.597408 -0.925170  0.142090\n",
      "c -1.880841  1.929226 -1.787383\n",
      "e  1.349597  0.929139  3.240791\n",
      "f  1.139649 -0.138620  0.387304\n",
      "h  0.349733 -0.286408  0.313719\n"
     ]
    }
   ],
   "source": [
    "# DROP MISSING VALUES\n",
    "# simply excludes the missing values\n",
    "# use the dropna function along with the axis argument (default, axis=0, i.e., along row,\n",
    "# which means that if any value within a row is NA then the whole row is excluded)\n",
    "print(df1)\n",
    "print(\"After dropping missing values along rows:\")\n",
    "print(df1.dropna())"
   ]
  },
  {
   "cell_type": "code",
   "execution_count": 19,
   "metadata": {},
   "outputs": [
    {
     "name": "stdout",
     "output_type": "stream",
     "text": [
      "After dropping missing values along columns:\n",
      "Empty DataFrame\n",
      "Columns: []\n",
      "Index: [a, b, c, d, e, f, g, h]\n"
     ]
    }
   ],
   "source": [
    "print(\"After dropping missing values along columns:\")\n",
    "print(df1.dropna(axis=1))"
   ]
  },
  {
   "cell_type": "code",
   "execution_count": 20,
   "metadata": {},
   "outputs": [
    {
     "name": "stdout",
     "output_type": "stream",
     "text": [
      "    one   two\n",
      "0    10  1000\n",
      "1    20     0\n",
      "2    30    30\n",
      "3    40    40\n",
      "4    50    50\n",
      "5  2000    60\n",
      "After replacing the values:\n",
      "   one  two\n",
      "0   10   10\n",
      "1   20    0\n",
      "2   30   30\n",
      "3   40   40\n",
      "4   50   50\n",
      "5   60   60\n"
     ]
    }
   ],
   "source": [
    "# Replace Missing (or) Generic Values --> replace a generic value with some specific value (using replace function)\n",
    "df4 = pd.DataFrame({'one': [10, 20, 30, 40, 50, 2000],\n",
    "                   'two': [1000, 0, 30, 40, 50 ,60]})\n",
    "print(df4)\n",
    "\n",
    "print(\"After replacing the values:\")\n",
    "print(df4.replace({1000:10, 2000:60}))"
   ]
  },
  {
   "cell_type": "code",
   "execution_count": null,
   "metadata": {},
   "outputs": [],
   "source": []
  }
 ],
 "metadata": {
  "kernelspec": {
   "display_name": "Python 3",
   "language": "python",
   "name": "python3"
  },
  "language_info": {
   "codemirror_mode": {
    "name": "ipython",
    "version": 3
   },
   "file_extension": ".py",
   "mimetype": "text/x-python",
   "name": "python",
   "nbconvert_exporter": "python",
   "pygments_lexer": "ipython3",
   "version": "3.6.4"
  }
 },
 "nbformat": 4,
 "nbformat_minor": 2
}
