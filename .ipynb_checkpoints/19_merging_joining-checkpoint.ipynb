{
 "cells": [
  {
   "cell_type": "code",
   "execution_count": 1,
   "metadata": {},
   "outputs": [],
   "source": [
    "# pd.merge(left, right, how='inner', on=None, left_on=None, right_on=None, left_index=False, right_index=False, sort=True)\n",
    "\n",
    "# left - a dataframe object\n",
    "# right - another dataframe object\n",
    "# on - columns (names) to join on\n",
    "# left_on - columns from the left dataframe to use as keys\n",
    "# right_on - columns from the right dataframe to use as keys\n",
    "# left_index - if True, used the index (row labels) from the left DataFrame as its join key(s)\n",
    "# right_index - same usage as left_index for the right DataFrame\n",
    "# how - one of 'left', 'right', 'outer', 'inner'. Defaults to inner\n",
    "# sort - sort the result DataFrame by the join keys in lexicographical order. Default to True,\n",
    "#        setting to False will improve the performance substantially in many cases.        "
   ]
  },
  {
   "cell_type": "code",
   "execution_count": 2,
   "metadata": {},
   "outputs": [],
   "source": [
    "import pandas as pd\n",
    "import numpy as np"
   ]
  },
  {
   "cell_type": "code",
   "execution_count": 4,
   "metadata": {},
   "outputs": [
    {
     "name": "stdout",
     "output_type": "stream",
     "text": [
      "Left:\n",
      "     Name  id subject_id\n",
      "0    Alex   1       sub1\n",
      "1     Amy   2       sub2\n",
      "2   Allen   3       sbu4\n",
      "3   Alice   4       sub6\n",
      "4  Ayoung   5       sub5\n",
      "Right:\n",
      "    Name  id subject_id\n",
      "0  Billy   1       sub2\n",
      "1  Brian   2       sub4\n",
      "2   Bran   3       sub3\n",
      "3  Bryce   4       sub6\n",
      "4  Betty   5       sub5\n"
     ]
    }
   ],
   "source": [
    "left = pd.DataFrame({\n",
    "    'id': [1,2,3,4,5],\n",
    "    'Name': ['Alex', 'Amy', 'Allen', 'Alice', 'Ayoung'],\n",
    "    'subject_id': ['sub1', 'sub2', 'sbu4', 'sub6', 'sub5']\n",
    "})\n",
    "\n",
    "right = pd.DataFrame({\n",
    "    'id': [1,2,3,4,5],\n",
    "    'Name': ['Billy', 'Brian', 'Bran', 'Bryce', 'Betty'],\n",
    "    'subject_id': ['sub2', 'sub4', 'sub3', 'sub6', 'sub5']\n",
    "})\n",
    "print(\"Left:\")\n",
    "print(left)\n",
    "print(\"Right:\")\n",
    "print(right)"
   ]
  },
  {
   "cell_type": "code",
   "execution_count": 5,
   "metadata": {},
   "outputs": [
    {
     "name": "stdout",
     "output_type": "stream",
     "text": [
      "   Name_x  id subject_id_x Name_y subject_id_y\n",
      "0    Alex   1         sub1  Billy         sub2\n",
      "1     Amy   2         sub2  Brian         sub4\n",
      "2   Allen   3         sbu4   Bran         sub3\n",
      "3   Alice   4         sub6  Bryce         sub6\n",
      "4  Ayoung   5         sub5  Betty         sub5\n"
     ]
    }
   ],
   "source": [
    "# merge two dataframes on a key\n",
    "print(pd.merge(left, right, on='id'))"
   ]
  },
  {
   "cell_type": "code",
   "execution_count": 6,
   "metadata": {},
   "outputs": [
    {
     "name": "stdout",
     "output_type": "stream",
     "text": [
      "   Name_x  id subject_id Name_y\n",
      "0   Alice   4       sub6  Bryce\n",
      "1  Ayoung   5       sub5  Betty\n"
     ]
    }
   ],
   "source": [
    "# merge two dataframes on multiple keys\n",
    "print(pd.merge(left, right, on=['id', 'subject_id']))"
   ]
  },
  {
   "cell_type": "code",
   "execution_count": null,
   "metadata": {},
   "outputs": [],
   "source": [
    "# merge using 'how' argument\n",
    "# [MERGE METHOD] [SQL EQUIVALENT]   [DESCRIPTION]\n",
    "#    left        left outer join    use keys from left object\n",
    "#    right       right outer join   use keys from right object\n",
    "#    outer       full outer join    use union of keys\n",
    "#    inner       inner join         use intersection of keys"
   ]
  },
  {
   "cell_type": "code",
   "execution_count": 12,
   "metadata": {},
   "outputs": [
    {
     "name": "stdout",
     "output_type": "stream",
     "text": [
      "   Name_x  id_x subject_id Name_y  id_y\n",
      "0    Alex     1       sub1    NaN   NaN\n",
      "1     Amy     2       sub2  Billy   1.0\n",
      "2   Allen     3       sbu4    NaN   NaN\n",
      "3   Alice     4       sub6  Bryce   4.0\n",
      "4  Ayoung     5       sub5  Betty   5.0\n"
     ]
    }
   ],
   "source": [
    "# left outer join\n",
    "print(pd.merge(left, right, on='subject_id', how='left'))"
   ]
  },
  {
   "cell_type": "code",
   "execution_count": 13,
   "metadata": {},
   "outputs": [
    {
     "name": "stdout",
     "output_type": "stream",
     "text": [
      "   Name_x  id_x subject_id Name_y  id_y\n",
      "0     Amy   2.0       sub2  Billy     1\n",
      "1   Alice   4.0       sub6  Bryce     4\n",
      "2  Ayoung   5.0       sub5  Betty     5\n",
      "3     NaN   NaN       sub4  Brian     2\n",
      "4     NaN   NaN       sub3   Bran     3\n"
     ]
    }
   ],
   "source": [
    "# right outer join\n",
    "print(pd.merge(left, right, on='subject_id', how='right'))"
   ]
  },
  {
   "cell_type": "code",
   "execution_count": 9,
   "metadata": {},
   "outputs": [
    {
     "name": "stdout",
     "output_type": "stream",
     "text": [
      "   Name_x  id_x subject_id Name_y  id_y\n",
      "0    Alex   1.0       sub1    NaN   NaN\n",
      "1     Amy   2.0       sub2  Billy   1.0\n",
      "2   Allen   3.0       sbu4    NaN   NaN\n",
      "3   Alice   4.0       sub6  Bryce   4.0\n",
      "4  Ayoung   5.0       sub5  Betty   5.0\n",
      "5     NaN   NaN       sub4  Brian   2.0\n",
      "6     NaN   NaN       sub3   Bran   3.0\n"
     ]
    }
   ],
   "source": [
    "# full outer join\n",
    "print(pd.merge(left, right, on='subject_id', how='outer'))"
   ]
  },
  {
   "cell_type": "code",
   "execution_count": 14,
   "metadata": {},
   "outputs": [
    {
     "name": "stdout",
     "output_type": "stream",
     "text": [
      "   Name_x  id_x subject_id Name_y  id_y\n",
      "0     Amy     2       sub2  Billy     1\n",
      "1   Alice     4       sub6  Bryce     4\n",
      "2  Ayoung     5       sub5  Betty     5\n"
     ]
    }
   ],
   "source": [
    "# inner join\n",
    "print(pd.merge(left, right, on='subject_id', how='inner'))"
   ]
  },
  {
   "cell_type": "code",
   "execution_count": null,
   "metadata": {},
   "outputs": [],
   "source": []
  }
 ],
 "metadata": {
  "kernelspec": {
   "display_name": "Python 3",
   "language": "python",
   "name": "python3"
  },
  "language_info": {
   "codemirror_mode": {
    "name": "ipython",
    "version": 3
   },
   "file_extension": ".py",
   "mimetype": "text/x-python",
   "name": "python",
   "nbconvert_exporter": "python",
   "pygments_lexer": "ipython3",
   "version": "3.6.4"
  }
 },
 "nbformat": 4,
 "nbformat_minor": 2
}
