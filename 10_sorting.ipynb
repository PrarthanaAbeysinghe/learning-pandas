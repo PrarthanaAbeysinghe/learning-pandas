{
 "cells": [
  {
   "cell_type": "code",
   "execution_count": 1,
   "metadata": {},
   "outputs": [],
   "source": [
    "# Two kinds of sorting in Pandas\n",
    "# 1 By label\n",
    "# 2 By Actual Value"
   ]
  },
  {
   "cell_type": "code",
   "execution_count": 2,
   "metadata": {},
   "outputs": [],
   "source": [
    "import pandas as pd\n",
    "import numpy as np"
   ]
  },
  {
   "cell_type": "code",
   "execution_count": 3,
   "metadata": {},
   "outputs": [],
   "source": [
    "unsorted_df1 = pd.DataFrame(np.random.randn(10,2), index=[1,4,6,2,3,5,9,8,0,7], columns=['col2', 'col1'])"
   ]
  },
  {
   "cell_type": "code",
   "execution_count": 4,
   "metadata": {},
   "outputs": [
    {
     "name": "stdout",
     "output_type": "stream",
     "text": [
      "       col2      col1\n",
      "1 -0.432184  0.324520\n",
      "4  0.348271  1.148597\n",
      "6  0.013103  0.682661\n",
      "2 -0.424634  0.547090\n",
      "3 -0.108513  0.919886\n",
      "5 -0.052059 -0.643559\n",
      "9 -0.498979 -1.675641\n",
      "8 -1.302057  0.268104\n",
      "0  0.241096  0.759524\n",
      "7  0.999950 -0.281633\n"
     ]
    }
   ],
   "source": [
    "print(unsorted_df1)"
   ]
  },
  {
   "cell_type": "code",
   "execution_count": 5,
   "metadata": {},
   "outputs": [
    {
     "name": "stdout",
     "output_type": "stream",
     "text": [
      "       col2      col1\n",
      "0  0.241096  0.759524\n",
      "1 -0.432184  0.324520\n",
      "2 -0.424634  0.547090\n",
      "3 -0.108513  0.919886\n",
      "4  0.348271  1.148597\n",
      "5 -0.052059 -0.643559\n",
      "6  0.013103  0.682661\n",
      "7  0.999950 -0.281633\n",
      "8 -1.302057  0.268104\n",
      "9 -0.498979 -1.675641\n"
     ]
    }
   ],
   "source": [
    "# By label (sorting is done on row labels)\n",
    "sorted_df1=unsorted_df1.sort_index()\n",
    "print(sorted_df1)"
   ]
  },
  {
   "cell_type": "code",
   "execution_count": 7,
   "metadata": {},
   "outputs": [
    {
     "name": "stdout",
     "output_type": "stream",
     "text": [
      "       col2      col1\n",
      "9 -0.498979 -1.675641\n",
      "8 -1.302057  0.268104\n",
      "7  0.999950 -0.281633\n",
      "6  0.013103  0.682661\n",
      "5 -0.052059 -0.643559\n",
      "4  0.348271  1.148597\n",
      "3 -0.108513  0.919886\n",
      "2 -0.424634  0.547090\n",
      "1 -0.432184  0.324520\n",
      "0  0.241096  0.759524\n"
     ]
    }
   ],
   "source": [
    "# Order of sorting (ascending/descending)\n",
    "sorted_df2 = unsorted_df1.sort_index(ascending=False)\n",
    "print(sorted_df2)"
   ]
  },
  {
   "cell_type": "code",
   "execution_count": 8,
   "metadata": {},
   "outputs": [
    {
     "name": "stdout",
     "output_type": "stream",
     "text": [
      "       col1      col2\n",
      "1  0.324520 -0.432184\n",
      "4  1.148597  0.348271\n",
      "6  0.682661  0.013103\n",
      "2  0.547090 -0.424634\n",
      "3  0.919886 -0.108513\n",
      "5 -0.643559 -0.052059\n",
      "9 -1.675641 -0.498979\n",
      "8  0.268104 -1.302057\n",
      "0  0.759524  0.241096\n",
      "7 -0.281633  0.999950\n"
     ]
    }
   ],
   "source": [
    "# Sort the columns (By chanding axis argument with a value 0 0r 1)\n",
    "# axis = 0 -> sort by rows\n",
    "sorted_df3= unsorted_df1.sort_index(axis=1)\n",
    "print(sorted_df3)"
   ]
  },
  {
   "cell_type": "code",
   "execution_count": 9,
   "metadata": {},
   "outputs": [
    {
     "name": "stdout",
     "output_type": "stream",
     "text": [
      "   col1  col2\n",
      "0     2     1\n",
      "1     1     3\n",
      "2     1     2\n",
      "3     1     4\n"
     ]
    }
   ],
   "source": [
    "# By Value\n",
    "unsorted_df2=pd.DataFrame({'col1':[2,1,1,1], 'col2':[1,3,2,4]})\n",
    "print(unsorted_df2)"
   ]
  },
  {
   "cell_type": "code",
   "execution_count": 10,
   "metadata": {},
   "outputs": [
    {
     "name": "stdout",
     "output_type": "stream",
     "text": [
      "   col1  col2\n",
      "1     1     3\n",
      "2     1     2\n",
      "3     1     4\n",
      "0     2     1\n"
     ]
    }
   ],
   "source": [
    "sorted_df4=unsorted_df2.sort_values(by='col1')\n",
    "print(sorted_df4)"
   ]
  },
  {
   "cell_type": "code",
   "execution_count": 11,
   "metadata": {},
   "outputs": [
    {
     "name": "stdout",
     "output_type": "stream",
     "text": [
      "   col1  col2\n",
      "2     1     2\n",
      "1     1     3\n",
      "3     1     4\n",
      "0     2     1\n"
     ]
    }
   ],
   "source": [
    "sorted_df5=unsorted_df2.sort_values(by=['col1', 'col2'])\n",
    "print(sorted_df5)"
   ]
  },
  {
   "cell_type": "code",
   "execution_count": 12,
   "metadata": {},
   "outputs": [
    {
     "name": "stdout",
     "output_type": "stream",
     "text": [
      "   col1  col2\n",
      "1     1     3\n",
      "2     1     2\n",
      "3     1     4\n",
      "0     2     1\n"
     ]
    }
   ],
   "source": [
    "# sort_values() ---> provides ---> mergesort(only stable algorithm), heapsort, quicksort\n",
    "sorted_df6=unsorted_df2.sort_values(by='col1', kind='mergesort')\n",
    "print(sorted_df6)"
   ]
  },
  {
   "cell_type": "code",
   "execution_count": null,
   "metadata": {},
   "outputs": [],
   "source": []
  }
 ],
 "metadata": {
  "kernelspec": {
   "display_name": "Python 3",
   "language": "python",
   "name": "python3"
  },
  "language_info": {
   "codemirror_mode": {
    "name": "ipython",
    "version": 3
   },
   "file_extension": ".py",
   "mimetype": "text/x-python",
   "name": "python",
   "nbconvert_exporter": "python",
   "pygments_lexer": "ipython3",
   "version": "3.6.4"
  }
 },
 "nbformat": 4,
 "nbformat_minor": 2
}
