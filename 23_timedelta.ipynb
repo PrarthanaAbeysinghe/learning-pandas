{
 "cells": [
  {
   "cell_type": "code",
   "execution_count": 2,
   "metadata": {},
   "outputs": [],
   "source": [
    "# Timedelta --> differences in times, expressed in different units (days, hours, minutes, seconds)\n",
    "#               can be both positive and negative\n",
    "import pandas as pd"
   ]
  },
  {
   "cell_type": "code",
   "execution_count": 3,
   "metadata": {},
   "outputs": [
    {
     "name": "stdout",
     "output_type": "stream",
     "text": [
      "2 days 02:15:30\n"
     ]
    }
   ],
   "source": [
    "# String\n",
    "print(pd.Timedelta('2 days 2 hours 15 minutes 30 seconds'))"
   ]
  },
  {
   "cell_type": "code",
   "execution_count": 4,
   "metadata": {},
   "outputs": [
    {
     "name": "stdout",
     "output_type": "stream",
     "text": [
      "0 days 06:00:00\n"
     ]
    }
   ],
   "source": [
    "# Integer\n",
    "print(pd.Timedelta(6, unit='h'))"
   ]
  },
  {
   "cell_type": "code",
   "execution_count": 6,
   "metadata": {},
   "outputs": [
    {
     "name": "stdout",
     "output_type": "stream",
     "text": [
      "2 days 00:00:00\n"
     ]
    }
   ],
   "source": [
    "# Data Offsets\n",
    "print(pd.Timedelta(days=2))"
   ]
  },
  {
   "cell_type": "code",
   "execution_count": 27,
   "metadata": {},
   "outputs": [
    {
     "data": {
      "text/plain": [
       "Timedelta('1 days 06:05:01.000030')"
      ]
     },
     "execution_count": 27,
     "metadata": {},
     "output_type": "execute_result"
    }
   ],
   "source": [
    "# to_timedelta() --> convert a scalar, array, list or series from  a recognized timedelta format/ value into a Timedelta type\n",
    "pd.to_timedelta('1 days 06:05:01.00003')\n"
   ]
  },
  {
   "cell_type": "code",
   "execution_count": 28,
   "metadata": {},
   "outputs": [
    {
     "data": {
      "text/plain": [
       "Timedelta('0 days 00:00:00.000015')"
      ]
     },
     "execution_count": 28,
     "metadata": {},
     "output_type": "execute_result"
    }
   ],
   "source": [
    "pd.to_timedelta('15.5us')"
   ]
  },
  {
   "cell_type": "code",
   "execution_count": 29,
   "metadata": {},
   "outputs": [
    {
     "data": {
      "text/plain": [
       "TimedeltaIndex(['1 days 06:05:01.000030', '0 days 00:00:00.000015', NaT], dtype='timedelta64[ns]', freq=None)"
      ]
     },
     "execution_count": 29,
     "metadata": {},
     "output_type": "execute_result"
    }
   ],
   "source": [
    "pd.to_timedelta(['1 days 06:05:01.00003', '15.5us', 'nan'])"
   ]
  },
  {
   "cell_type": "code",
   "execution_count": 30,
   "metadata": {},
   "outputs": [
    {
     "data": {
      "text/plain": [
       "TimedeltaIndex(['00:00:00', '00:00:01', '00:00:02', '00:00:03', '00:00:04'], dtype='timedelta64[ns]', freq=None)"
      ]
     },
     "execution_count": 30,
     "metadata": {},
     "output_type": "execute_result"
    }
   ],
   "source": [
    "import numpy as np\n",
    "# convert numbers by specifying the unit keyword argument\n",
    "pd.to_timedelta(np.arange(5), unit='s')"
   ]
  },
  {
   "cell_type": "code",
   "execution_count": 31,
   "metadata": {},
   "outputs": [
    {
     "data": {
      "text/plain": [
       "TimedeltaIndex(['0 days', '1 days', '2 days', '3 days', '4 days'], dtype='timedelta64[ns]', freq=None)"
      ]
     },
     "execution_count": 31,
     "metadata": {},
     "output_type": "execute_result"
    }
   ],
   "source": [
    "pd.to_timedelta(np.arange(5), unit='d')"
   ]
  },
  {
   "cell_type": "code",
   "execution_count": 19,
   "metadata": {},
   "outputs": [
    {
     "name": "stdout",
     "output_type": "stream",
     "text": [
      "           A      B\n",
      "0 2012-01-01 0 days\n",
      "1 2012-01-02 1 days\n",
      "2 2012-01-03 2 days\n"
     ]
    }
   ],
   "source": [
    "# operations --> can operate on Series/DataFrames adn construct timedelta64[ns] Series through substration operations\n",
    "#                on datetime64[ns] Series, or Timestamps\n",
    "s = pd.Series(pd.date_range('2012-1-1', periods=3, freq='D'))\n",
    "td = pd.Series([pd.Timedelta(days=i) for i in range(3)])\n",
    "df = pd.DataFrame(dict(A = s, B = td))\n",
    "print(df)"
   ]
  },
  {
   "cell_type": "code",
   "execution_count": 20,
   "metadata": {},
   "outputs": [
    {
     "name": "stdout",
     "output_type": "stream",
     "text": [
      "           A      B          C\n",
      "0 2012-01-01 0 days 2012-01-01\n",
      "1 2012-01-02 1 days 2012-01-03\n",
      "2 2012-01-03 2 days 2012-01-05\n"
     ]
    }
   ],
   "source": [
    "# Addition Operations\n",
    "df['C'] = df['A']+df['B']\n",
    "print(df)"
   ]
  },
  {
   "cell_type": "code",
   "execution_count": 21,
   "metadata": {},
   "outputs": [
    {
     "name": "stdout",
     "output_type": "stream",
     "text": [
      "           A      B          C          D\n",
      "0 2012-01-01 0 days 2012-01-01 2012-01-01\n",
      "1 2012-01-02 1 days 2012-01-03 2012-01-01\n",
      "2 2012-01-03 2 days 2012-01-05 2012-01-01\n"
     ]
    }
   ],
   "source": [
    "# Substraction operations\n",
    "df['D'] = df['A'] - df['B']\n",
    "print(df)"
   ]
  },
  {
   "cell_type": "code",
   "execution_count": null,
   "metadata": {},
   "outputs": [],
   "source": []
  }
 ],
 "metadata": {
  "kernelspec": {
   "display_name": "Python 3",
   "language": "python",
   "name": "python3"
  },
  "language_info": {
   "codemirror_mode": {
    "name": "ipython",
    "version": 3
   },
   "file_extension": ".py",
   "mimetype": "text/x-python",
   "name": "python",
   "nbconvert_exporter": "python",
   "pygments_lexer": "ipython3",
   "version": "3.6.4"
  }
 },
 "nbformat": 4,
 "nbformat_minor": 2
}
