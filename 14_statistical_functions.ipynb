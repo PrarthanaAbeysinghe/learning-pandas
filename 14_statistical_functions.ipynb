{
 "cells": [
  {
   "cell_type": "code",
   "execution_count": 8,
   "metadata": {},
   "outputs": [],
   "source": [
    "# PERCENTAGE CHANGE --> Series, DataFrames and Panel, all have the function pct_change()\n",
    "# it compares every element with its prior element and computs the change percentage"
   ]
  },
  {
   "cell_type": "code",
   "execution_count": 2,
   "metadata": {},
   "outputs": [],
   "source": [
    "import pandas as pd\n",
    "import numpy as np"
   ]
  },
  {
   "cell_type": "code",
   "execution_count": 5,
   "metadata": {},
   "outputs": [
    {
     "name": "stdout",
     "output_type": "stream",
     "text": [
      "0         NaN\n",
      "1    1.000000\n",
      "2    0.500000\n",
      "3    0.333333\n",
      "4    0.250000\n",
      "5   -0.200000\n",
      "dtype: float64\n"
     ]
    }
   ],
   "source": [
    "# change_percentage = (current_value - previous_value) / (previous_value)\n",
    "s1 = pd.Series([1, 2, 3, 4, 5, 4])\n",
    "print(s1.pct_change())"
   ]
  },
  {
   "cell_type": "code",
   "execution_count": 7,
   "metadata": {},
   "outputs": [
    {
     "name": "stdout",
     "output_type": "stream",
     "text": [
      "          0         1\n",
      "0 -1.587096  0.456166\n",
      "1 -0.526222 -0.318794\n",
      "2 -0.591796 -0.641773\n",
      "3 -0.979379 -1.134173\n",
      "4 -2.131062  0.911763\n",
      "          0         1\n",
      "0       NaN       NaN\n",
      "1 -0.668437 -1.698855\n",
      "2  0.124612  1.013126\n",
      "3  0.654926  0.767249\n",
      "4  1.175932 -1.803902\n",
      "    0         1\n",
      "0 NaN -1.287422\n",
      "1 NaN -0.394183\n",
      "2 NaN  0.084450\n",
      "3 NaN  0.158053\n",
      "4 NaN -1.427845\n"
     ]
    }
   ],
   "source": [
    "# by defaul --> the pct_change() operates on columns;\n",
    "# if you want to apply it row-wise, then use axis=1 argument\n",
    "df1 = pd.DataFrame(np.random.randn(5, 2))\n",
    "print(df1)\n",
    "print(df1.pct_change())\n",
    "print(df1.pct_change(axis=1))"
   ]
  },
  {
   "cell_type": "code",
   "execution_count": 9,
   "metadata": {},
   "outputs": [],
   "source": [
    "# COVARIANCE --> applies on series data.\n",
    "#            --> the Series object has a method cov to compute covariance between series objects. \n",
    "#            --> NA wiil be excluded automatically."
   ]
  },
  {
   "cell_type": "code",
   "execution_count": 11,
   "metadata": {},
   "outputs": [
    {
     "name": "stdout",
     "output_type": "stream",
     "text": [
      "-0.01798576781865782\n"
     ]
    }
   ],
   "source": [
    "# Covariance of Series\n",
    "s2=pd.Series(np.random.randn(10))\n",
    "s3=pd.Series(np.random.randn(10))\n",
    "print(s2.cov(s3))"
   ]
  },
  {
   "cell_type": "code",
   "execution_count": 14,
   "metadata": {},
   "outputs": [
    {
     "name": "stdout",
     "output_type": "stream",
     "text": [
      "0.03453731488510635\n",
      "          a         b         c         d         e\n",
      "a  0.596790  0.034537 -0.191771 -0.072134  0.090962\n",
      "b  0.034537  0.916944 -0.381219 -0.004359  0.129928\n",
      "c -0.191771 -0.381219  0.718014  0.239343  0.180740\n",
      "d -0.072134 -0.004359  0.239343  0.321542 -0.127343\n",
      "e  0.090962  0.129928  0.180740 -0.127343  1.582106\n"
     ]
    }
   ],
   "source": [
    "# Covariance of DataFrame --> computes cov between all the columns\n",
    "df1 = pd.DataFrame(np.random.randn(10, 5), columns=['a', 'b', 'c', 'd', 'e'])\n",
    "# cov between a and b columns\n",
    "print(df1['a'].cov(df1['b']))\n",
    "# cov between each column (check the value of cov between a and b columns)\n",
    "print(df1.cov())"
   ]
  },
  {
   "cell_type": "code",
   "execution_count": 15,
   "metadata": {},
   "outputs": [],
   "source": [
    "# CORRELATION --> shows the linear relationship between any 2 array of values(Series)\n",
    "# multiple methods: pearson(default), spearman and kendall"
   ]
  },
  {
   "cell_type": "code",
   "execution_count": 17,
   "metadata": {},
   "outputs": [
    {
     "name": "stdout",
     "output_type": "stream",
     "text": [
      "-0.14671937060420256\n",
      "          a         b         c         d         e\n",
      "a  1.000000 -0.146719  0.426095  0.145537  0.174851\n",
      "b -0.146719  1.000000  0.082882 -0.139842  0.013212\n",
      "c  0.426095  0.082882  1.000000 -0.261273 -0.372337\n",
      "d  0.145537 -0.139842 -0.261273  1.000000  0.100656\n",
      "e  0.174851  0.013212 -0.372337  0.100656  1.000000\n"
     ]
    }
   ],
   "source": [
    "df2 = pd.DataFrame(np.random.randn(10, 5), columns=['a', 'b', 'c', 'd', 'e'])\n",
    "print(df2['a'].corr(df2['b']))\n",
    "print(df2.corr())\n",
    "\n",
    "# if non-numeric column is present in the DataFrame, it is excluded automatically"
   ]
  },
  {
   "cell_type": "code",
   "execution_count": 26,
   "metadata": {},
   "outputs": [
    {
     "name": "stdout",
     "output_type": "stream",
     "text": [
      "a   -0.588125\n",
      "b    0.432900\n",
      "c    1.653149\n",
      "d   -1.881970\n",
      "e    0.511998\n",
      "dtype: float64\n",
      "a   -0.588125\n",
      "b    0.432900\n",
      "c    1.653149\n",
      "d    0.432900\n",
      "e    0.511998\n",
      "dtype: float64\n",
      "a    1.0\n",
      "b    2.5\n",
      "c    5.0\n",
      "d    2.5\n",
      "e    4.0\n",
      "dtype: float64\n"
     ]
    }
   ],
   "source": [
    "# DATA RANKING --> produces for each element in the array of elements\n",
    "#              --> in case of ties, assigns the mean rank\n",
    "s4=pd.Series(np.random.randn(5), index=list('abcde'))\n",
    "print(s4)\n",
    "\n",
    "# so there's a tie\n",
    "s4['d'] = s4['b']\n",
    "print(s4)\n",
    "\n",
    "print(s4.rank())"
   ]
  },
  {
   "cell_type": "code",
   "execution_count": 27,
   "metadata": {},
   "outputs": [],
   "source": [
    "# RANK --> optionally takes a parameter ascending which by default is True;\n",
    "# when False, data is reverse-ranked, with larger values assigned a smaller rank\n",
    "# RANK supports different tie-breaking methods:\n",
    "# 1 average - average rank of tied group\n",
    "# 2 min - lowest rank in the group\n",
    "# 3 max - highest rank in the group\n",
    "# 4 first - ranks assigned in the order they appear in the array"
   ]
  },
  {
   "cell_type": "code",
   "execution_count": null,
   "metadata": {},
   "outputs": [],
   "source": []
  }
 ],
 "metadata": {
  "kernelspec": {
   "display_name": "Python 3",
   "language": "python",
   "name": "python3"
  },
  "language_info": {
   "codemirror_mode": {
    "name": "ipython",
    "version": 3
   },
   "file_extension": ".py",
   "mimetype": "text/x-python",
   "name": "python",
   "nbconvert_exporter": "python",
   "pygments_lexer": "ipython3",
   "version": "3.6.4"
  }
 },
 "nbformat": 4,
 "nbformat_minor": 2
}
