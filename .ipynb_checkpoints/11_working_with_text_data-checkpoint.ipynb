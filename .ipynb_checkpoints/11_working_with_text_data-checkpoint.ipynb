{
 "cells": [
  {
   "cell_type": "code",
   "execution_count": 1,
   "metadata": {},
   "outputs": [],
   "source": [
    "# lower() --> converts strings in the Series/Indes to lower case\n",
    "# upper() --> to uppercase\n",
    "# len() --> computes String length\n",
    "# strip() --> helps strip whitespace(including newline) from each string in the Series/Index from both the sides\n",
    "# split('') --> splits each string with the given pattern\n",
    "# cat(sep='') --> concatenates the Series/Index elements with given separator\n",
    "# get_dummies() --> returns the DataFrame with One-Hot encoded values\n",
    "# contains(pattern) --> returns a boolean value True for each element if the substring contains in the element, eles False\n",
    "# replace(a,b) --> replaces the values a with the value b\n",
    "# repeat(value) --> repeats each element with specified number of times\n",
    "# count(pattern) --> returns count of appearance of pattern in each element\n",
    "# startswith(pattern) --> returns True if the element in the Series/Index starts with the pattern\n",
    "# endswith(pattern) --> returns True... ends with the pattern\n",
    "# find(pattern) --> returns the first position of the first occurence of the pattern\n",
    "# findall(pattern) --> returns a list of all occurence of the pattern\n",
    "# swapcase --> swaps the case lower/upper\n",
    "# islower() --> checks whether all characters in each string in the Series/Index in lower case or not. returns boolean\n",
    "# isupper() --> checks whether all characters in each.... in upper or not...\n",
    "# isnumeric() --> checks whether all characters in each string in the Series/Index are numeric. returns boolean"
   ]
  },
  {
   "cell_type": "code",
   "execution_count": 2,
   "metadata": {},
   "outputs": [],
   "source": [
    "import pandas as pd\n",
    "import numpy as np"
   ]
  },
  {
   "cell_type": "code",
   "execution_count": 3,
   "metadata": {},
   "outputs": [
    {
     "name": "stdout",
     "output_type": "stream",
     "text": [
      "0             Tom\n",
      "1    William Rick\n",
      "2            John\n",
      "3         Alber@t\n",
      "4             NaN\n",
      "5            1234\n",
      "6      SteveSmith\n",
      "dtype: object\n"
     ]
    }
   ],
   "source": [
    "s1=pd.Series(['Tom', 'William Rick', 'John', 'Alber@t', np.nan, '1234', 'SteveSmith'])\n",
    "print(s1)"
   ]
  },
  {
   "cell_type": "code",
   "execution_count": 4,
   "metadata": {},
   "outputs": [
    {
     "name": "stdout",
     "output_type": "stream",
     "text": [
      "0             tom\n",
      "1    william rick\n",
      "2            john\n",
      "3         alber@t\n",
      "4             NaN\n",
      "5            1234\n",
      "6      stevesmith\n",
      "dtype: object\n"
     ]
    }
   ],
   "source": [
    "# lower\n",
    "print(s1.str.lower())"
   ]
  },
  {
   "cell_type": "code",
   "execution_count": 5,
   "metadata": {
    "scrolled": true
   },
   "outputs": [
    {
     "name": "stdout",
     "output_type": "stream",
     "text": [
      "0             TOM\n",
      "1    WILLIAM RICK\n",
      "2            JOHN\n",
      "3         ALBER@T\n",
      "4             NaN\n",
      "5            1234\n",
      "6      STEVESMITH\n",
      "dtype: object\n"
     ]
    }
   ],
   "source": [
    "# upper\n",
    "print(s1.str.upper())"
   ]
  },
  {
   "cell_type": "code",
   "execution_count": 6,
   "metadata": {},
   "outputs": [
    {
     "name": "stdout",
     "output_type": "stream",
     "text": [
      "0     3.0\n",
      "1    12.0\n",
      "2     4.0\n",
      "3     7.0\n",
      "4     NaN\n",
      "5     4.0\n",
      "6    10.0\n",
      "dtype: float64\n"
     ]
    }
   ],
   "source": [
    "# length\n",
    "print(s1.str.len())"
   ]
  },
  {
   "cell_type": "code",
   "execution_count": 9,
   "metadata": {},
   "outputs": [
    {
     "name": "stdout",
     "output_type": "stream",
     "text": [
      "0             Tom \n",
      "1     William Rick\n",
      "2             John\n",
      "3          Alber@t\n",
      "dtype: object\n",
      "After Stripping..\n",
      "0             Tom\n",
      "1    William Rick\n",
      "2            John\n",
      "3         Alber@t\n",
      "dtype: object\n"
     ]
    }
   ],
   "source": [
    "# strip (reomve whitespaces before and after if any..)\n",
    "s2=pd.Series(['Tom ', ' William Rick', 'John', 'Alber@t'])\n",
    "print(s2)\n",
    "print(\"After Stripping..\")\n",
    "print(s2.str.strip())"
   ]
  },
  {
   "cell_type": "code",
   "execution_count": 12,
   "metadata": {},
   "outputs": [
    {
     "name": "stdout",
     "output_type": "stream",
     "text": [
      "0             Tom \n",
      "1     William Rick\n",
      "2             John\n",
      "3          Alber@t\n",
      "dtype: object\n",
      "Split Pattern:\n",
      "0              [Tom, ]\n",
      "1    [, William, Rick]\n",
      "2               [John]\n",
      "3            [Alber@t]\n",
      "dtype: object\n"
     ]
    }
   ],
   "source": [
    "# split(pattern) = each whitespaces seprate by (,) \n",
    "print(s2)\n",
    "print(\"Split Pattern:\")\n",
    "print(s2.str.split(' '))"
   ]
  },
  {
   "cell_type": "code",
   "execution_count": 14,
   "metadata": {},
   "outputs": [
    {
     "name": "stdout",
     "output_type": "stream",
     "text": [
      "Tom _ William Rick_John_Alber@t\n"
     ]
    }
   ],
   "source": [
    "# cat(sep=pattern)\n",
    "print(s2.str.cat(sep='_'))"
   ]
  },
  {
   "cell_type": "code",
   "execution_count": 15,
   "metadata": {},
   "outputs": [
    {
     "name": "stdout",
     "output_type": "stream",
     "text": [
      "    William Rick  Alber@t  John  Tom \n",
      "0              0        0     0     1\n",
      "1              1        0     0     0\n",
      "2              0        0     1     0\n",
      "3              0        1     0     0\n"
     ]
    }
   ],
   "source": [
    "# get_dummies()\n",
    "print(s2.str.get_dummies())"
   ]
  },
  {
   "cell_type": "code",
   "execution_count": 16,
   "metadata": {},
   "outputs": [
    {
     "name": "stdout",
     "output_type": "stream",
     "text": [
      "0     True\n",
      "1     True\n",
      "2    False\n",
      "3    False\n",
      "dtype: bool\n"
     ]
    }
   ],
   "source": [
    "# contains()\n",
    "print(s2.str.contains(' '))"
   ]
  },
  {
   "cell_type": "code",
   "execution_count": 17,
   "metadata": {},
   "outputs": [
    {
     "name": "stdout",
     "output_type": "stream",
     "text": [
      "0             Tom \n",
      "1     William Rick\n",
      "2             John\n",
      "3          Alber@t\n",
      "dtype: object\n",
      "After replacing @ with $:\n",
      "0             Tom \n",
      "1     William Rick\n",
      "2             John\n",
      "3          Alber$t\n",
      "dtype: object\n"
     ]
    }
   ],
   "source": [
    "# replace(a, b)\n",
    "print(s2)\n",
    "print(\"After replacing @ with $:\")\n",
    "print(s2.str.replace('@','$'))"
   ]
  },
  {
   "cell_type": "code",
   "execution_count": 18,
   "metadata": {},
   "outputs": [
    {
     "name": "stdout",
     "output_type": "stream",
     "text": [
      "0                      Tom Tom \n",
      "1     William Rick William Rick\n",
      "2                      JohnJohn\n",
      "3                Alber@tAlber@t\n",
      "dtype: object\n"
     ]
    }
   ],
   "source": [
    "# repeat(value)\n",
    "print(s2.str.repeat(2))"
   ]
  },
  {
   "cell_type": "code",
   "execution_count": 19,
   "metadata": {},
   "outputs": [
    {
     "name": "stdout",
     "output_type": "stream",
     "text": [
      "The number of 'm's in each string:\n",
      "0    1\n",
      "1    1\n",
      "2    0\n",
      "3    0\n",
      "dtype: int64\n"
     ]
    }
   ],
   "source": [
    "# count(pattern)\n",
    "print(\"The number of 'm's in each string:\")\n",
    "print(s2.str.count('m'))"
   ]
  },
  {
   "cell_type": "code",
   "execution_count": 20,
   "metadata": {},
   "outputs": [
    {
     "name": "stdout",
     "output_type": "stream",
     "text": [
      "Strings that start with 'T':\n",
      "0     True\n",
      "1    False\n",
      "2    False\n",
      "3    False\n",
      "dtype: bool\n"
     ]
    }
   ],
   "source": [
    "# startswith(pattern)\n",
    "print(\"Strings that start with 'T':\")\n",
    "print(s2.str.startswith('T'))"
   ]
  },
  {
   "cell_type": "code",
   "execution_count": 21,
   "metadata": {},
   "outputs": [
    {
     "name": "stdout",
     "output_type": "stream",
     "text": [
      "String taht end with 't':\n",
      "0    False\n",
      "1    False\n",
      "2    False\n",
      "3     True\n",
      "dtype: bool\n"
     ]
    }
   ],
   "source": [
    "# endswith(pattern)\n",
    "print(\"String taht end with 't':\")\n",
    "print(s2.str.endswith('t'))"
   ]
  },
  {
   "cell_type": "code",
   "execution_count": 25,
   "metadata": {},
   "outputs": [
    {
     "name": "stdout",
     "output_type": "stream",
     "text": [
      "0   -1\n",
      "1   -1\n",
      "2   -1\n",
      "3    3\n",
      "dtype: int64\n"
     ]
    }
   ],
   "source": [
    "# find(pattern)\n",
    "# -1 --> there is no such pattern available in the element\n",
    "print(s2.str.find('e'))"
   ]
  },
  {
   "cell_type": "code",
   "execution_count": 24,
   "metadata": {},
   "outputs": [
    {
     "name": "stdout",
     "output_type": "stream",
     "text": [
      "0     []\n",
      "1     []\n",
      "2     []\n",
      "3    [e]\n",
      "dtype: object\n"
     ]
    }
   ],
   "source": [
    "# findall(pattern)\n",
    "# Null list([]) --> there is no such pattern available in the element\n",
    "print(s2.str.findall('e'))"
   ]
  },
  {
   "cell_type": "code",
   "execution_count": 26,
   "metadata": {},
   "outputs": [
    {
     "name": "stdout",
     "output_type": "stream",
     "text": [
      "0             tOM \n",
      "1     wILLIAM rICK\n",
      "2             jOHN\n",
      "3          aLBER@T\n",
      "dtype: object\n"
     ]
    }
   ],
   "source": [
    "# swapcase()\n",
    "print(s2.str.swapcase())"
   ]
  },
  {
   "cell_type": "code",
   "execution_count": 27,
   "metadata": {},
   "outputs": [
    {
     "name": "stdout",
     "output_type": "stream",
     "text": [
      "0    False\n",
      "1    False\n",
      "2    False\n",
      "3    False\n",
      "dtype: bool\n"
     ]
    }
   ],
   "source": [
    "# islower()\n",
    "print(s2.str.islower())"
   ]
  },
  {
   "cell_type": "code",
   "execution_count": 28,
   "metadata": {},
   "outputs": [
    {
     "name": "stdout",
     "output_type": "stream",
     "text": [
      "0    False\n",
      "1    False\n",
      "2    False\n",
      "3    False\n",
      "dtype: bool\n"
     ]
    }
   ],
   "source": [
    "# isupper()\n",
    "print(s2.str.isupper())"
   ]
  },
  {
   "cell_type": "code",
   "execution_count": 29,
   "metadata": {},
   "outputs": [
    {
     "name": "stdout",
     "output_type": "stream",
     "text": [
      "0    False\n",
      "1    False\n",
      "2    False\n",
      "3    False\n",
      "dtype: bool\n"
     ]
    }
   ],
   "source": [
    "# isnumeric()\n",
    "print(s2.str.isnumeric())"
   ]
  },
  {
   "cell_type": "code",
   "execution_count": null,
   "metadata": {},
   "outputs": [],
   "source": []
  }
 ],
 "metadata": {
  "kernelspec": {
   "display_name": "Python 3",
   "language": "python",
   "name": "python3"
  },
  "language_info": {
   "codemirror_mode": {
    "name": "ipython",
    "version": 3
   },
   "file_extension": ".py",
   "mimetype": "text/x-python",
   "name": "python",
   "nbconvert_exporter": "python",
   "pygments_lexer": "ipython3",
   "version": "3.6.4"
  }
 },
 "nbformat": 4,
 "nbformat_minor": 2
}
