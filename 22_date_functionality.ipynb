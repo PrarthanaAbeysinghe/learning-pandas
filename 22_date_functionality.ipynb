{
 "cells": [
  {
   "cell_type": "code",
   "execution_count": 4,
   "metadata": {},
   "outputs": [
    {
     "name": "stdout",
     "output_type": "stream",
     "text": [
      "DatetimeIndex(['2011-01-01', '2011-01-02', '2011-01-03', '2011-01-04',\n",
      "               '2011-01-05'],\n",
      "              dtype='datetime64[ns]', freq='D')\n"
     ]
    }
   ],
   "source": [
    "import pandas as pd\n",
    "\n",
    "# create a range of Dates\n",
    "# By default, the frequency of range is Days\n",
    "print(pd.date_range('1/1/2011', periods=5))"
   ]
  },
  {
   "cell_type": "code",
   "execution_count": 5,
   "metadata": {},
   "outputs": [
    {
     "name": "stdout",
     "output_type": "stream",
     "text": [
      "DatetimeIndex(['2011-01-31', '2011-02-28', '2011-03-31', '2011-04-30',\n",
      "               '2011-05-31'],\n",
      "              dtype='datetime64[ns]', freq='M')\n"
     ]
    }
   ],
   "source": [
    "# change the Date Frequency\n",
    "print(pd.date_range('1/1/2011', periods=5, freq='M'))"
   ]
  },
  {
   "cell_type": "code",
   "execution_count": 7,
   "metadata": {},
   "outputs": [
    {
     "name": "stdout",
     "output_type": "stream",
     "text": [
      "DatetimeIndex(['2011-01-03', '2011-01-04', '2011-01-05', '2011-01-06',\n",
      "               '2011-01-07'],\n",
      "              dtype='datetime64[ns]', freq='B')\n"
     ]
    }
   ],
   "source": [
    "# bdate_range() = business date ranges\n",
    "# unlike date_range(), it excludes Saturday and Sunday\n",
    "print(pd.bdate_range('1/1/2011', periods=5))"
   ]
  },
  {
   "cell_type": "code",
   "execution_count": 8,
   "metadata": {},
   "outputs": [
    {
     "name": "stdout",
     "output_type": "stream",
     "text": [
      "DatetimeIndex(['2011-01-01', '2011-01-02', '2011-01-03', '2011-01-04',\n",
      "               '2011-01-05'],\n",
      "              dtype='datetime64[ns]', freq='D')\n"
     ]
    }
   ],
   "source": [
    "start = pd.datetime(2011, 1, 1)\n",
    "end = pd.datetime(2011, 1, 5)\n",
    "print(pd.date_range(start, end))"
   ]
  },
  {
   "cell_type": "code",
   "execution_count": 9,
   "metadata": {},
   "outputs": [],
   "source": [
    "# OFFSET ALIASES --> a number of string aliases are given to useful common time series frequencies.\n",
    "#                    we refer to these aliases as offset aliases\n",
    "\n",
    "# [ALIAS]    [DESCRIPTION]\n",
    "# B      business day frequency\n",
    "# D      calendar day frequency\n",
    "# W      weekly frequency\n",
    "# M      month end frequency\n",
    "# SM     semi-month end frequency\n",
    "# BM     business month end frequency\n",
    "# MS     month start frequency\n",
    "# SMS    semi month start frequency\n",
    "# BMS    business month start frequency\n",
    "# Q      quarter end frequency\n",
    "# BQ     business quarter end frequency\n",
    "# QS     quarter start frequency\n",
    "# BQS    business quarter start frequency\n",
    "# A      annual(Year) end frequency\n",
    "# BA     business year end frequency\n",
    "# BAS    busineess year start frequency\n",
    "# BH     business hour frequency\n",
    "# H      hourly frequency\n",
    "# T, min minutely frequency\n",
    "# S      secondly frequency\n",
    "# L, ms  miliseconds\n",
    "# U, us  microseconds\n",
    "# N      nanoseconds"
   ]
  },
  {
   "cell_type": "code",
   "execution_count": null,
   "metadata": {},
   "outputs": [],
   "source": []
  }
 ],
 "metadata": {
  "kernelspec": {
   "display_name": "Python 3",
   "language": "python",
   "name": "python3"
  },
  "language_info": {
   "codemirror_mode": {
    "name": "ipython",
    "version": 3
   },
   "file_extension": ".py",
   "mimetype": "text/x-python",
   "name": "python",
   "nbconvert_exporter": "python",
   "pygments_lexer": "ipython3",
   "version": "3.6.4"
  }
 },
 "nbformat": 4,
 "nbformat_minor": 2
}
