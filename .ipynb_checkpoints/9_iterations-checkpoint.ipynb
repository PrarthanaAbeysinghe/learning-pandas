{
 "cells": [
  {
   "cell_type": "code",
   "execution_count": 1,
   "metadata": {},
   "outputs": [],
   "source": [
    "# Basic iteration (for i in object) produces:\n",
    "# Series -> values\n",
    "# DataFrame -> column labels\n",
    "# Panel -> item labels"
   ]
  },
  {
   "cell_type": "code",
   "execution_count": 2,
   "metadata": {},
   "outputs": [],
   "source": [
    "import pandas as pd\n",
    "import numpy as np"
   ]
  },
  {
   "cell_type": "code",
   "execution_count": 4,
   "metadata": {},
   "outputs": [
    {
     "name": "stdout",
     "output_type": "stream",
     "text": [
      "A\n",
      "C\n",
      "D\n",
      "x\n",
      "y\n"
     ]
    }
   ],
   "source": [
    "# For DataFrames\n",
    "N=20\n",
    "df1= pd.DataFrame({\n",
    "    'A': pd.date_range(start='2016-01-01', periods=N, freq='D'),\n",
    "    'x': np.linspace(0, stop=N-1, num=N),\n",
    "    'y': np.random.rand(N),\n",
    "    'C': np.random.choice(['Low', 'Medium', 'High'],N).tolist(),\n",
    "    'D': np.random.normal(100, 10, size=(N)).tolist()\n",
    "    \n",
    "})\n",
    "\n",
    "for col in df1:\n",
    "    print(col)"
   ]
  },
  {
   "cell_type": "code",
   "execution_count": 5,
   "metadata": {},
   "outputs": [],
   "source": [
    "# Iteration over the rows of the DataFrame\n",
    "# Functions:\n",
    "# iteritems() -> iterate over the (key,value) pairs\n",
    "# iterrows() -> iterate over the rows as (index, series) pairs\n",
    "# itertuples() -> iterate over the rows as namedtuples"
   ]
  },
  {
   "cell_type": "code",
   "execution_count": 7,
   "metadata": {},
   "outputs": [
    {
     "name": "stdout",
     "output_type": "stream",
     "text": [
      "col1 0    1.786034\n",
      "1    1.051396\n",
      "2   -0.583519\n",
      "3    0.984193\n",
      "Name: col1, dtype: float64\n",
      "col2 0    1.012624\n",
      "1   -0.387464\n",
      "2   -0.612408\n",
      "3   -0.936584\n",
      "Name: col2, dtype: float64\n",
      "col3 0   -0.188001\n",
      "1    0.692985\n",
      "2    1.608404\n",
      "3    1.123787\n",
      "Name: col3, dtype: float64\n"
     ]
    }
   ],
   "source": [
    "# iteritems()\n",
    "df2 = pd.DataFrame(np.random.randn(4,3), columns=['col1','col2','col3'])\n",
    "# each column is iterated separtely as a key-value pair in a Series\n",
    "for key,value in df2.iteritems():\n",
    "    print(key, value)"
   ]
  },
  {
   "cell_type": "code",
   "execution_count": 9,
   "metadata": {},
   "outputs": [
    {
     "name": "stdout",
     "output_type": "stream",
     "text": [
      "0 col1    1.786034\n",
      "col2    1.012624\n",
      "col3   -0.188001\n",
      "Name: 0, dtype: float64\n",
      "1 col1    1.051396\n",
      "col2   -0.387464\n",
      "col3    0.692985\n",
      "Name: 1, dtype: float64\n",
      "2 col1   -0.583519\n",
      "col2   -0.612408\n",
      "col3    1.608404\n",
      "Name: 2, dtype: float64\n",
      "3 col1    0.984193\n",
      "col2   -0.936584\n",
      "col3    1.123787\n",
      "Name: 3, dtype: float64\n"
     ]
    }
   ],
   "source": [
    "# iterrows()\n",
    "# interate over the rows\n",
    "# does not preserve the data type across the row\n",
    "for row_index,row in df2.iterrows():\n",
    "    print(row_index,row)"
   ]
  },
  {
   "cell_type": "code",
   "execution_count": 10,
   "metadata": {},
   "outputs": [
    {
     "name": "stdout",
     "output_type": "stream",
     "text": [
      "Pandas(Index=0, col1=1.7860339413447281, col2=1.0126236449176393, col3=-0.18800092024868562)\n",
      "Pandas(Index=1, col1=1.051396024809258, col2=-0.38746391722937423, col3=0.6929847778980472)\n",
      "Pandas(Index=2, col1=-0.5835188172597499, col2=-0.6124078302043807, col3=1.6084035513500923)\n",
      "Pandas(Index=3, col1=0.9841927912028821, col2=-0.9365837628244416, col3=1.1237868844459522)\n"
     ]
    }
   ],
   "source": [
    "# itertuples()\n",
    "# do not modify any object while iterating\n",
    "# reading and returns a copy of the original object (a view)\n",
    "for row in df2.itertuples():\n",
    "    print(row)"
   ]
  },
  {
   "cell_type": "code",
   "execution_count": 13,
   "metadata": {},
   "outputs": [
    {
     "name": "stdout",
     "output_type": "stream",
     "text": [
      "       col1      col2      col3\n",
      "0  1.786034  1.012624 -0.188001\n",
      "1  1.051396 -0.387464  0.692985\n",
      "2 -0.583519 -0.612408  1.608404\n",
      "3  0.984193 -0.936584  1.123787\n"
     ]
    }
   ],
   "source": [
    "for index, row in df2.iterrows():\n",
    "    row['a']=10\n",
    "    \n",
    "print(df2)"
   ]
  },
  {
   "cell_type": "code",
   "execution_count": null,
   "metadata": {},
   "outputs": [],
   "source": []
  }
 ],
 "metadata": {
  "kernelspec": {
   "display_name": "Python 3",
   "language": "python",
   "name": "python3"
  },
  "language_info": {
   "codemirror_mode": {
    "name": "ipython",
    "version": 3
   },
   "file_extension": ".py",
   "mimetype": "text/x-python",
   "name": "python",
   "nbconvert_exporter": "python",
   "pygments_lexer": "ipython3",
   "version": "3.6.4"
  }
 },
 "nbformat": 4,
 "nbformat_minor": 2
}
