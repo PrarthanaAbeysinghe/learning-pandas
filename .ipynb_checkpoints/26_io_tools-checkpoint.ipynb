{
 "cells": [
  {
   "cell_type": "code",
   "execution_count": 1,
   "metadata": {},
   "outputs": [],
   "source": [
    "# Pandas I/O API is a set of top level reader functions accessed like:\n",
    "#      pd.read_csv() - returns a Pandas object\n",
    "# 2 workhorse functions for reading text files \n",
    "# (both use the same parsing code to intelligently convert tabular data into a DataFrame object):\n",
    "#     read_csv()\n",
    "#     read_table()"
   ]
  },
  {
   "cell_type": "code",
   "execution_count": 2,
   "metadata": {},
   "outputs": [],
   "source": [
    "# pandas.read_csv(filepath_or_buffer, sep=',', delimiter=None, header='infer',\n",
    "#                 names=None, index_col=None, usecols=None)"
   ]
  },
  {
   "cell_type": "code",
   "execution_count": 3,
   "metadata": {},
   "outputs": [],
   "source": [
    "import pandas as pd\n",
    "import numpy as np"
   ]
  },
  {
   "cell_type": "code",
   "execution_count": 5,
   "metadata": {},
   "outputs": [
    {
     "name": "stdout",
     "output_type": "stream",
     "text": [
      "   S.No    Name  Age      City  Salary\n",
      "0     1     Tom   28   Toronto   20000\n",
      "1     2     Lee   32  HongKong    5000\n",
      "2     3  Steven   43  Bay Area    8300\n",
      "3     4     Ram   38    Tokiyo    9000\n"
     ]
    }
   ],
   "source": [
    "# read csv\n",
    "df1 = pd.read_csv(\"D:/Project/Data Science/pandas/dataset/temp_26_io.csv\")\n",
    "print(df1)"
   ]
  },
  {
   "cell_type": "code",
   "execution_count": 6,
   "metadata": {},
   "outputs": [
    {
     "name": "stdout",
     "output_type": "stream",
     "text": [
      "        Name  Age      City  Salary\n",
      "S.No                               \n",
      "1        Tom   28   Toronto   20000\n",
      "2        Lee   32  HongKong    5000\n",
      "3     Steven   43  Bay Area    8300\n",
      "4        Ram   38    Tokiyo    9000\n"
     ]
    }
   ],
   "source": [
    "# custom index --> specifies a column in the csv file to customize the index using index_col\n",
    "df2 = pd.read_csv(\"D:/Project/Data Science/pandas/dataset/temp_26_io.csv\", index_col=['S.No'])\n",
    "print(df2)"
   ]
  },
  {
   "cell_type": "code",
   "execution_count": 14,
   "metadata": {},
   "outputs": [
    {
     "name": "stdout",
     "output_type": "stream",
     "text": [
      "S.No        int64\n",
      "Name       object\n",
      "Age         int64\n",
      "City       object\n",
      "Salary    float64\n",
      "dtype: object\n",
      "   S.No    Name  Age      City   Salary\n",
      "0     1     Tom   28   Toronto  20000.0\n",
      "1     2     Lee   32  HongKong   5000.0\n",
      "2     3  Steven   43  Bay Area   8300.0\n",
      "3     4     Ram   38    Tokiyo   9000.0\n",
      "After converting the dtype of Salary to float64:\n",
      "S.No        int64\n",
      "Name       object\n",
      "Age         int64\n",
      "City       object\n",
      "Salary    float64\n",
      "dtype: object\n",
      "   S.No    Name  Age      City   Salary\n",
      "0     1     Tom   28   Toronto  20000.0\n",
      "1     2     Lee   32  HongKong   5000.0\n",
      "2     3  Steven   43  Bay Area   8300.0\n",
      "3     4     Ram   38    Tokiyo   9000.0\n"
     ]
    }
   ],
   "source": [
    "# converts --> dtype of the columns can be passed as a dict\n",
    "print(df3.dtypes)\n",
    "print(df3)\n",
    "\n",
    "df3 = pd.read_csv(\"D:/Project/Data Science/pandas/dataset/temp_26_io.csv\", dtype={'Salary': np.float64})\n",
    "print(\"After converting the dtype of Salary to float64:\")\n",
    "print(df3.dtypes)\n",
    "print(df3)"
   ]
  },
  {
   "cell_type": "code",
   "execution_count": 15,
   "metadata": {},
   "outputs": [
    {
     "name": "stdout",
     "output_type": "stream",
     "text": [
      "      a       b    c         d       e\n",
      "0  S.No    Name  Age      City  Salary\n",
      "1     1     Tom   28   Toronto   20000\n",
      "2     2     Lee   32  HongKong    5000\n",
      "3     3  Steven   43  Bay Area    8300\n",
      "4     4     Ram   38    Tokiyo    9000\n"
     ]
    }
   ],
   "source": [
    "# header_names --> specify the names of the header using the names argument\n",
    "df4 = pd.read_csv(\"D:/Project/Data Science/pandas/dataset/temp_26_io.csv\", names=['a', 'b', 'c', 'd', 'e'])\n",
    "print(df4)"
   ]
  },
  {
   "cell_type": "code",
   "execution_count": 19,
   "metadata": {},
   "outputs": [
    {
     "name": "stdout",
     "output_type": "stream",
     "text": [
      "   a       b   c         d      e\n",
      "0  1     Tom  28   Toronto  20000\n",
      "1  2     Lee  32  HongKong   5000\n",
      "2  3  Steven  43  Bay Area   8300\n",
      "3  4     Ram  38    Tokiyo   9000\n"
     ]
    }
   ],
   "source": [
    "# the header is in a row other than the first, pass the row number to header\n",
    "df5 = pd.read_csv(\"D:/Project/Data Science/pandas/dataset/temp_26_io.csv\",names=['a','b','c','d','e'],header=0)\n",
    "print(df5)"
   ]
  },
  {
   "cell_type": "code",
   "execution_count": 20,
   "metadata": {},
   "outputs": [
    {
     "name": "stdout",
     "output_type": "stream",
     "text": [
      "   2     Lee  32  HongKong  5000\n",
      "0  3  Steven  43  Bay Area  8300\n",
      "1  4     Ram  38    Tokiyo  9000\n"
     ]
    }
   ],
   "source": [
    "# skiprows --> skips the number of rows specified\n",
    "df6 = pd.read_csv(\"D:/Project/Data Science/pandas/dataset/temp_26_io.csv\", skiprows=2)\n",
    "print(df6)"
   ]
  },
  {
   "cell_type": "code",
   "execution_count": null,
   "metadata": {},
   "outputs": [],
   "source": []
  }
 ],
 "metadata": {
  "kernelspec": {
   "display_name": "Python 3",
   "language": "python",
   "name": "python3"
  },
  "language_info": {
   "codemirror_mode": {
    "name": "ipython",
    "version": 3
   },
   "file_extension": ".py",
   "mimetype": "text/x-python",
   "name": "python",
   "nbconvert_exporter": "python",
   "pygments_lexer": "ipython3",
   "version": "3.6.4"
  }
 },
 "nbformat": 4,
 "nbformat_minor": 2
}
