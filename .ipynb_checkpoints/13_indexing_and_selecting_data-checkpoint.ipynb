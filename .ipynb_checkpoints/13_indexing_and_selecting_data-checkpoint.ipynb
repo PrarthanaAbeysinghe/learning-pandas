{
 "cells": [
  {
   "cell_type": "code",
   "execution_count": 1,
   "metadata": {},
   "outputs": [],
   "source": [
    "# discuss how to slice and dice the date and generally get the subset of pandas object\n",
    "# Python and Numpy: Indexing operators \"[]\"\n",
    "#                   Attribiute operators \".\"\n",
    "# those operators provide quick access to Pandas data structures\n",
    "# In order to do that we take advantage of the optimized pandas data access methods\n",
    "# Pandas supports 3 types of Multi-axes indexing;\n",
    "# 1 .loc() --> label based\n",
    "# 2 .iloc() --> Integer based\n",
    "# 3. ix() --> both label and integer based"
   ]
  },
  {
   "cell_type": "code",
   "execution_count": 2,
   "metadata": {},
   "outputs": [],
   "source": [
    "import pandas as pd\n",
    "import numpy as np"
   ]
  },
  {
   "cell_type": "code",
   "execution_count": 8,
   "metadata": {},
   "outputs": [],
   "source": [
    "# .loc() has multiple access methods;\n",
    "# A single scalar label\n",
    "# A list of labels\n",
    "# A slice object\n",
    "# A boolean array\n",
    "#\n",
    "# loc takes two single/list/range operator seprated by ','\n",
    "# FIRST ONE INDICATES THE ROW AND SECOND ONE INDICATES COLUMNS"
   ]
  },
  {
   "cell_type": "code",
   "execution_count": 4,
   "metadata": {},
   "outputs": [
    {
     "name": "stdout",
     "output_type": "stream",
     "text": [
      "          A         B         C         D\n",
      "a -0.502218  1.810672 -0.203699  0.000925\n",
      "b  0.446390 -0.534370  0.287454  0.063961\n",
      "c  0.246056 -0.383903 -1.334632 -3.355300\n",
      "d  0.466529 -0.466289 -0.395543  0.173302\n",
      "e  1.305217 -1.149312 -1.333190  0.316756\n",
      "f -1.776167  0.297515  0.184875  0.412699\n",
      "g  0.984320 -0.964657  1.000113 -1.902128\n",
      "h -0.993946  1.929660 -1.189435 -0.559774\n"
     ]
    }
   ],
   "source": [
    "df1=pd.DataFrame(np.random.randn(8, 4),\n",
    "index=['a', 'b', 'c', 'd', 'e', 'f', 'g', 'h'], columns=['A', 'B', 'C', 'D'])\n",
    "print(df1)"
   ]
  },
  {
   "cell_type": "code",
   "execution_count": 6,
   "metadata": {},
   "outputs": [
    {
     "name": "stdout",
     "output_type": "stream",
     "text": [
      "a   -0.502218\n",
      "b    0.446390\n",
      "c    0.246056\n",
      "d    0.466529\n",
      "e    1.305217\n",
      "f   -1.776167\n",
      "g    0.984320\n",
      "h   -0.993946\n",
      "Name: A, dtype: float64\n"
     ]
    }
   ],
   "source": [
    "# select all rows for a specific column\n",
    "print(df1.loc[:, 'A'])"
   ]
  },
  {
   "cell_type": "code",
   "execution_count": 7,
   "metadata": {},
   "outputs": [
    {
     "name": "stdout",
     "output_type": "stream",
     "text": [
      "          A         C\n",
      "a -0.502218 -0.203699\n",
      "b  0.446390  0.287454\n",
      "c  0.246056 -1.334632\n",
      "d  0.466529 -0.395543\n",
      "e  1.305217 -1.333190\n",
      "f -1.776167  0.184875\n",
      "g  0.984320  1.000113\n",
      "h -0.993946 -1.189435\n"
     ]
    }
   ],
   "source": [
    "# select all rows for multiple columns, say list[]\n",
    "print(df1.loc[:, ['A', 'C']])"
   ]
  },
  {
   "cell_type": "code",
   "execution_count": 9,
   "metadata": {},
   "outputs": [
    {
     "name": "stdout",
     "output_type": "stream",
     "text": [
      "          A         C\n",
      "a -0.502218 -0.203699\n",
      "b  0.446390  0.287454\n",
      "f -1.776167  0.184875\n",
      "h -0.993946 -1.189435\n"
     ]
    }
   ],
   "source": [
    "# select few rows for multiple columns, say list[]\n",
    "print(df1.loc[['a', 'b', 'f', 'h'], ['A', 'C']])"
   ]
  },
  {
   "cell_type": "code",
   "execution_count": 11,
   "metadata": {},
   "outputs": [
    {
     "name": "stdout",
     "output_type": "stream",
     "text": [
      "          A         B         C         D\n",
      "d  0.466529 -0.466289 -0.395543  0.173302\n",
      "e  1.305217 -1.149312 -1.333190  0.316756\n",
      "f -1.776167  0.297515  0.184875  0.412699\n",
      "g  0.984320 -0.964657  1.000113 -1.902128\n",
      "h -0.993946  1.929660 -1.189435 -0.559774\n"
     ]
    }
   ],
   "source": [
    "# select a range of rows for all columns\n",
    "print(df1.loc['d':'h'])"
   ]
  },
  {
   "cell_type": "code",
   "execution_count": 12,
   "metadata": {},
   "outputs": [
    {
     "name": "stdout",
     "output_type": "stream",
     "text": [
      "A    False\n",
      "B     True\n",
      "C    False\n",
      "D     True\n",
      "Name: a, dtype: bool\n"
     ]
    }
   ],
   "source": [
    "# for getting values with a boolean array\n",
    "print(df1.loc['a']>0)"
   ]
  },
  {
   "cell_type": "code",
   "execution_count": 13,
   "metadata": {},
   "outputs": [],
   "source": [
    "# .iloc() --> Pandas provides various methods in order to get purely integer-based indexing (0-based indexing)\n",
    "# An integer\n",
    "# A list of integers\n",
    "# A range of values"
   ]
  },
  {
   "cell_type": "code",
   "execution_count": 16,
   "metadata": {},
   "outputs": [
    {
     "name": "stdout",
     "output_type": "stream",
     "text": [
      "          A         B         C         D\n",
      "0 -0.458188 -0.723821  1.203139 -1.573360\n",
      "1 -0.606182 -1.113955  1.257961 -0.236944\n",
      "2 -1.284485  0.194982  0.223861  0.877854\n",
      "3  0.849394 -0.278745  0.065461  1.559150\n"
     ]
    }
   ],
   "source": [
    "df2=pd.DataFrame(np.random.randn(8, 4), columns=['A', 'B', 'C', 'D'])\n",
    "\n",
    "# select all rows for a specific column\n",
    "print(df2.iloc[:4])"
   ]
  },
  {
   "cell_type": "code",
   "execution_count": 19,
   "metadata": {},
   "outputs": [
    {
     "name": "stdout",
     "output_type": "stream",
     "text": [
      "          A         B         C         D\n",
      "0 -0.458188 -0.723821  1.203139 -1.573360\n",
      "1 -0.606182 -1.113955  1.257961 -0.236944\n",
      "2 -1.284485  0.194982  0.223861  0.877854\n",
      "3  0.849394 -0.278745  0.065461  1.559150\n",
      "          C         D\n",
      "1  1.257961 -0.236944\n",
      "2  0.223861  0.877854\n",
      "3  0.065461  1.559150\n",
      "4  2.079210  1.364467\n"
     ]
    }
   ],
   "source": [
    "# integer slicing\n",
    "print(df2.iloc[:4])\n",
    "print(df2.iloc[1:5, 2:4])"
   ]
  },
  {
   "cell_type": "code",
   "execution_count": 21,
   "metadata": {},
   "outputs": [
    {
     "name": "stdout",
     "output_type": "stream",
     "text": [
      "          B         D\n",
      "1 -1.113955 -0.236944\n",
      "3 -0.278745  1.559150\n",
      "5 -0.053883  0.946383\n",
      "          A         B         C         D\n",
      "1 -0.606182 -1.113955  1.257961 -0.236944\n",
      "2 -1.284485  0.194982  0.223861  0.877854\n",
      "          B         C\n",
      "0 -0.723821  1.203139\n",
      "1 -1.113955  1.257961\n",
      "2  0.194982  0.223861\n",
      "3 -0.278745  0.065461\n",
      "4 -0.541671  2.079210\n",
      "5 -0.053883  0.066775\n",
      "6 -0.684205 -0.564774\n",
      "7 -0.335316  0.384833\n"
     ]
    }
   ],
   "source": [
    "# slicing through list of values\n",
    "print(df2.iloc[[1, 3, 5], [1, 3]])\n",
    "print(df2.iloc[1:3, :])\n",
    "print(df2.iloc[:, 1:3])"
   ]
  },
  {
   "cell_type": "code",
   "execution_count": 22,
   "metadata": {},
   "outputs": [],
   "source": [
    "# .ix() --> besides pure label based on an integer-based\n",
    "# Pandas provides a hybrid method for selecting and subsetting the object usign the .ix() operator"
   ]
  },
  {
   "cell_type": "code",
   "execution_count": 26,
   "metadata": {},
   "outputs": [
    {
     "name": "stdout",
     "output_type": "stream",
     "text": [
      "          A         B         C         D\n",
      "0 -2.274758 -0.831959  0.174994 -0.255741\n",
      "1 -0.344413 -0.178531 -1.106049  0.918453\n",
      "2  1.011636  1.416053  0.726312 -0.940443\n",
      "3 -0.188262 -0.653735 -0.972859  0.767472\n",
      "4 -1.683423  0.106368  0.599044  1.872763\n",
      "5 -0.503244 -0.523624  0.104896 -0.421260\n",
      "6  0.282882  0.564843  0.918164 -0.847237\n",
      "7 -0.348125  0.207524  0.001500  0.112598\n",
      "          A         B         C         D\n",
      "0 -2.274758 -0.831959  0.174994 -0.255741\n",
      "1 -0.344413 -0.178531 -1.106049  0.918453\n",
      "2  1.011636  1.416053  0.726312 -0.940443\n",
      "3 -0.188262 -0.653735 -0.972859  0.767472\n",
      "4 -1.683423  0.106368  0.599044  1.872763\n"
     ]
    },
    {
     "name": "stderr",
     "output_type": "stream",
     "text": [
      "C:\\Users\\Thushara - PC\\Anaconda3\\lib\\site-packages\\ipykernel_launcher.py:2: DeprecationWarning: \n",
      ".ix is deprecated. Please use\n",
      ".loc for label based indexing or\n",
      ".iloc for positional indexing\n",
      "\n",
      "See the documentation here:\n",
      "http://pandas.pydata.org/pandas-docs/stable/indexing.html#ix-indexer-is-deprecated\n",
      "  \n"
     ]
    }
   ],
   "source": [
    "df3= pd.DataFrame(np.random.randn(8, 4), columns=['A', 'B', 'C', 'D'])\n",
    "print(df3.ix[:])\n",
    "# integer slicing\n",
    "print(df3.ix[:4])"
   ]
  },
  {
   "cell_type": "code",
   "execution_count": 24,
   "metadata": {},
   "outputs": [
    {
     "name": "stdout",
     "output_type": "stream",
     "text": [
      "0   -1.399241\n",
      "1   -0.674457\n",
      "2    0.712368\n",
      "3    0.204011\n",
      "4   -0.438710\n",
      "5    1.022080\n",
      "6   -0.830151\n",
      "7   -0.343595\n",
      "Name: A, dtype: float64\n"
     ]
    }
   ],
   "source": [
    "# index slicing\n",
    "print(df3.ix[:, 'A'])"
   ]
  },
  {
   "cell_type": "code",
   "execution_count": 27,
   "metadata": {},
   "outputs": [],
   "source": [
    "# Use of notations\n",
    "# series --> s.loc[indexer]\n",
    "# dataframe --> df.loc[row_index, col_index]\n",
    "# panel --> p.loc[item_index, major_index, minor_index]"
   ]
  },
  {
   "cell_type": "code",
   "execution_count": 29,
   "metadata": {},
   "outputs": [
    {
     "name": "stdout",
     "output_type": "stream",
     "text": [
      "          A         B         C         D\n",
      "0  0.286150  1.597984  1.530656 -0.733359\n",
      "1 -1.279044 -0.105773  0.598463 -0.912623\n",
      "2  1.826509 -0.203080 -0.269949  1.422620\n",
      "3  0.219650 -1.163726 -1.775056 -0.864152\n",
      "4  1.710932 -0.106214 -0.807421  0.454815\n",
      "5  0.112195 -1.338337  0.256076  0.459335\n",
      "6  1.041988  0.102152  1.189320 -0.910600\n",
      "7  0.251924 -0.086450  0.610794  1.616250\n",
      "0    0.286150\n",
      "1   -1.279044\n",
      "2    1.826509\n",
      "3    0.219650\n",
      "4    1.710932\n",
      "5    0.112195\n",
      "6    1.041988\n",
      "7    0.251924\n",
      "Name: A, dtype: float64\n"
     ]
    }
   ],
   "source": [
    "df4 = pd.DataFrame(np.random.randn(8, 4), columns=['A', 'B', 'C', 'D'])\n",
    "print(df4)\n",
    "print(df4['A'])"
   ]
  },
  {
   "cell_type": "code",
   "execution_count": 30,
   "metadata": {},
   "outputs": [
    {
     "name": "stdout",
     "output_type": "stream",
     "text": [
      "          A         B\n",
      "0  0.286150  1.597984\n",
      "1 -1.279044 -0.105773\n",
      "2  1.826509 -0.203080\n",
      "3  0.219650 -1.163726\n",
      "4  1.710932 -0.106214\n",
      "5  0.112195 -1.338337\n",
      "6  1.041988  0.102152\n",
      "7  0.251924 -0.086450\n"
     ]
    }
   ],
   "source": [
    "print(df4[['A', 'B']])"
   ]
  },
  {
   "cell_type": "code",
   "execution_count": 31,
   "metadata": {},
   "outputs": [
    {
     "name": "stdout",
     "output_type": "stream",
     "text": [
      "Empty DataFrame\n",
      "Columns: [A, B, C, D]\n",
      "Index: []\n"
     ]
    }
   ],
   "source": [
    "print(df4[2:2])"
   ]
  },
  {
   "cell_type": "code",
   "execution_count": 32,
   "metadata": {},
   "outputs": [
    {
     "name": "stdout",
     "output_type": "stream",
     "text": [
      "0    0.286150\n",
      "1   -1.279044\n",
      "2    1.826509\n",
      "3    0.219650\n",
      "4    1.710932\n",
      "5    0.112195\n",
      "6    1.041988\n",
      "7    0.251924\n",
      "Name: A, dtype: float64\n"
     ]
    }
   ],
   "source": [
    "# Attribute Access --> columns can be selected using the attribute operator '.' (dot)\n",
    "print(df4.A)"
   ]
  },
  {
   "cell_type": "code",
   "execution_count": null,
   "metadata": {},
   "outputs": [],
   "source": []
  }
 ],
 "metadata": {
  "kernelspec": {
   "display_name": "Python 3",
   "language": "python",
   "name": "python3"
  },
  "language_info": {
   "codemirror_mode": {
    "name": "ipython",
    "version": 3
   },
   "file_extension": ".py",
   "mimetype": "text/x-python",
   "name": "python",
   "nbconvert_exporter": "python",
   "pygments_lexer": "ipython3",
   "version": "3.6.4"
  }
 },
 "nbformat": 4,
 "nbformat_minor": 2
}
