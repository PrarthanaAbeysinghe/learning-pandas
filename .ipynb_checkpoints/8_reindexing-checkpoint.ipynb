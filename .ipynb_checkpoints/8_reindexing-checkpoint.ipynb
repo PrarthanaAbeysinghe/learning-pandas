{
 "cells": [
  {
   "cell_type": "code",
   "execution_count": 1,
   "metadata": {},
   "outputs": [],
   "source": [
    "import pandas as pd\n",
    "import numpy as np"
   ]
  },
  {
   "cell_type": "code",
   "execution_count": 2,
   "metadata": {},
   "outputs": [],
   "source": [
    "# Reindexing -> change the row labels and column labels of a DataFrame\n",
    "# Multiple Operations can be done:\n",
    "# 1_Reorder the existing data\n",
    "# 2_Insert missing value (NA) markers in label locations where no data for the label existed"
   ]
  },
  {
   "cell_type": "code",
   "execution_count": 5,
   "metadata": {},
   "outputs": [
    {
     "name": "stdout",
     "output_type": "stream",
     "text": [
      "            A       C           D     x         y\n",
      "0  2016-01-01    High   94.640349   0.0  0.052462\n",
      "1  2016-01-02    High  104.911483   1.0  0.284479\n",
      "2  2016-01-03     Low  103.198645   2.0  0.052899\n",
      "3  2016-01-04  Medium   97.144645   3.0  0.402451\n",
      "4  2016-01-05    High   90.303014   4.0  0.960994\n",
      "5  2016-01-06  Medium   78.646523   5.0  0.492044\n",
      "6  2016-01-07     Low   94.981504   6.0  0.966430\n",
      "7  2016-01-08  Medium  101.024901   7.0  0.172293\n",
      "8  2016-01-09     Low  105.727394   8.0  0.582610\n",
      "9  2016-01-10  Medium  100.179746   9.0  0.393036\n",
      "10 2016-01-11    High   74.268765  10.0  0.311980\n",
      "11 2016-01-12     Low   90.993757  11.0  0.450440\n",
      "12 2016-01-13     Low   91.279079  12.0  0.810744\n",
      "13 2016-01-14    High   89.052444  13.0  0.552947\n",
      "14 2016-01-15     Low   98.295599  14.0  0.892109\n",
      "15 2016-01-16     Low  115.241176  15.0  0.745025\n",
      "16 2016-01-17     Low  115.456091  16.0  0.170712\n",
      "17 2016-01-18    High  113.447923  17.0  0.700563\n",
      "18 2016-01-19    High   84.939612  18.0  0.098314\n",
      "19 2016-01-20  Medium   88.316145  19.0  0.487880\n",
      "After Reindexing:\n",
      "           A       C   B\n",
      "0 2016-01-01    High NaN\n",
      "2 2016-01-03     Low NaN\n",
      "5 2016-01-06  Medium NaN\n"
     ]
    }
   ],
   "source": [
    "N = 20\n",
    "df1 = pd.DataFrame({\n",
    "    'A': pd.date_range(start='2016-01-01', periods=N, freq='D'),\n",
    "    'x': np.linspace(0, stop=N-1, num=N),\n",
    "    'y': np.random.rand(N),\n",
    "    'C': np.random.choice(['Low','Medium','High'],N).tolist(),\n",
    "    'D': np.random.normal(100, 10, size=(N)).tolist()\n",
    "})\n",
    "\n",
    "print(df1)\n",
    "\n",
    "# reindex the DataFrame\n",
    "print(\"After Reindexing:\")\n",
    "df_reindexed = df1.reindex(index=[0,2,5], columns=['A', 'C', 'B'])\n",
    "print(df_reindexed)"
   ]
  },
  {
   "cell_type": "code",
   "execution_count": 8,
   "metadata": {},
   "outputs": [
    {
     "name": "stdout",
     "output_type": "stream",
     "text": [
      "Original df2:\n",
      "       col1      col2      col3\n",
      "0  1.964990 -0.057632 -0.078842\n",
      "1 -0.526876 -0.192742 -0.146227\n",
      "2 -1.002838 -0.504668  0.001324\n",
      "3  0.811995  0.709293 -0.579602\n",
      "4 -0.022654 -0.173177 -1.079529\n",
      "5  1.282915  1.478444 -0.053956\n",
      "6  0.148620 -1.173505 -0.352255\n",
      "7 -0.342799  0.086630  0.862082\n",
      "8 -1.090806  0.048876 -0.370273\n",
      "9  2.619551 -2.235643  1.070530\n",
      "Original df3:\n",
      "       col1      col2      col3\n",
      "0  0.877055 -0.409363  0.104958\n",
      "1  0.353667  1.270210  0.636517\n",
      "2  0.336914  0.791477 -0.220322\n",
      "3 -0.441847  0.254475 -0.855233\n",
      "4  1.505466  1.471862  0.739350\n",
      "5 -0.110604  0.720587  0.851968\n",
      "6 -1.274651  0.641726 -0.250442\n",
      "After Reindexed:\n",
      "       col1      col2      col3\n",
      "0  1.964990 -0.057632 -0.078842\n",
      "1 -0.526876 -0.192742 -0.146227\n",
      "2 -1.002838 -0.504668  0.001324\n",
      "3  0.811995  0.709293 -0.579602\n",
      "4 -0.022654 -0.173177 -1.079529\n",
      "5  1.282915  1.478444 -0.053956\n",
      "6  0.148620 -1.173505 -0.352255\n"
     ]
    }
   ],
   "source": [
    "# Reindex to align with other objects\n",
    "df2 = pd.DataFrame(np.random.randn(10,3), columns=['col1', 'col2', 'col3'])\n",
    "df3 = pd.DataFrame(np.random.randn(7,3), columns=['col1', 'col2', 'col3'])\n",
    "\n",
    "print(\"Original df2:\")\n",
    "print(df2)\n",
    "print(\"Original df3:\")\n",
    "print(df3)\n",
    "\n",
    "df2 = df2.reindex_like(df3)\n",
    "print(\"After Reindexed:\")\n",
    "print(df2)"
   ]
  },
  {
   "cell_type": "code",
   "execution_count": 9,
   "metadata": {},
   "outputs": [],
   "source": [
    "# FILLING WHILE REINDEXING\n",
    "# reindex() takes optional para. method\n",
    "# Parameter methods:\n",
    "# 1_pad/ffill -> fill values forward\n",
    "# 2_dfill/backfill -> fill values backward\n",
    "# 3_nearest -> fill from the nearest index values"
   ]
  },
  {
   "cell_type": "code",
   "execution_count": 12,
   "metadata": {},
   "outputs": [
    {
     "name": "stdout",
     "output_type": "stream",
     "text": [
      "       col1      col2      col3\n",
      "0 -1.330485 -0.311242  1.409099\n",
      "1  0.643975 -1.396882 -0.377404\n",
      "2       NaN       NaN       NaN\n",
      "3       NaN       NaN       NaN\n",
      "4       NaN       NaN       NaN\n",
      "5       NaN       NaN       NaN\n",
      "DataFrame with forward fill:\n",
      "       col1      col2      col3\n",
      "0 -1.330485 -0.311242  1.409099\n",
      "1  0.643975 -1.396882 -0.377404\n",
      "2  0.643975 -1.396882 -0.377404\n",
      "3  0.643975 -1.396882 -0.377404\n",
      "4  0.643975 -1.396882 -0.377404\n",
      "5  0.643975 -1.396882 -0.377404\n"
     ]
    }
   ],
   "source": [
    "df4 = pd.DataFrame(np.random.randn(6,3), columns=['col1', 'col2', 'col3'])\n",
    "df5 = pd.DataFrame(np.random.randn(2,3), columns=['col1', 'col2', 'col3'])\n",
    "\n",
    "# Padding NaN's\n",
    "print(df5.reindex_like(df4))\n",
    "\n",
    "# Fill the NaN's with precending values\n",
    "print(\"DataFrame with forward fill:\")\n",
    "print(df5.reindex_like(df4, method='ffill'))\n",
    "# NOTE: The last 4 rows are padded"
   ]
  },
  {
   "cell_type": "code",
   "execution_count": 14,
   "metadata": {},
   "outputs": [
    {
     "name": "stdout",
     "output_type": "stream",
     "text": [
      "DataFrame with forward fill limiting to 1:\n",
      "       col1      col2      col3\n",
      "0 -1.330485 -0.311242  1.409099\n",
      "1  0.643975 -1.396882 -0.377404\n",
      "2  0.643975 -1.396882 -0.377404\n",
      "3       NaN       NaN       NaN\n",
      "4       NaN       NaN       NaN\n",
      "5       NaN       NaN       NaN\n"
     ]
    }
   ],
   "source": [
    "# LIMIT on filling while reindexing\n",
    "print(\"DataFrame with forward fill limiting to 1:\")\n",
    "# 2nd index row filled by the precending 1st index row\n",
    "print(df5.reindex_like(df4, method='ffill', limit=1))"
   ]
  },
  {
   "cell_type": "code",
   "execution_count": 15,
   "metadata": {},
   "outputs": [
    {
     "name": "stdout",
     "output_type": "stream",
     "text": [
      "       col1      col2      col3\n",
      "0 -0.031457 -0.779161  0.296261\n",
      "1  0.226637 -1.440682 -0.517699\n",
      "2  0.969934 -0.291249 -1.081098\n",
      "3  2.926702  1.715237 -0.199818\n",
      "4 -0.018139  0.721724  1.304796\n",
      "5  0.194436  0.722109 -0.588682\n",
      "After renaming the rows and columns:\n",
      "              c1        c2      col3\n",
      "apple  -0.031457 -0.779161  0.296261\n",
      "banana  0.226637 -1.440682 -0.517699\n",
      "durian  0.969934 -0.291249 -1.081098\n",
      "3       2.926702  1.715237 -0.199818\n",
      "4      -0.018139  0.721724  1.304796\n",
      "5       0.194436  0.722109 -0.588682\n"
     ]
    }
   ],
   "source": [
    "# Renaming\n",
    "df6 = pd.DataFrame(np.random.randn(6,3),columns=['col1','col2','col3'])\n",
    "print(df6)\n",
    "\n",
    "print(\"After renaming the rows and columns:\")\n",
    "print(df6.rename(columns={'col1': 'c1', 'col2': 'c2'},\n",
    "                index={0: 'apple', 1: 'banana', 2: 'durian'}))"
   ]
  },
  {
   "cell_type": "code",
   "execution_count": null,
   "metadata": {},
   "outputs": [],
   "source": []
  }
 ],
 "metadata": {
  "kernelspec": {
   "display_name": "Python 3",
   "language": "python",
   "name": "python3"
  },
  "language_info": {
   "codemirror_mode": {
    "name": "ipython",
    "version": 3
   },
   "file_extension": ".py",
   "mimetype": "text/x-python",
   "name": "python",
   "nbconvert_exporter": "python",
   "pygments_lexer": "ipython3",
   "version": "3.6.4"
  }
 },
 "nbformat": 4,
 "nbformat_minor": 2
}
