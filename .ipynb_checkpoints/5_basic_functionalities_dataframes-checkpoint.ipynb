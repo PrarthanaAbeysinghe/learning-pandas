{
 "cells": [
  {
   "cell_type": "code",
   "execution_count": 1,
   "metadata": {},
   "outputs": [],
   "source": [
    "import pandas as pd\n",
    "import numpy as np"
   ]
  },
  {
   "cell_type": "code",
   "execution_count": 3,
   "metadata": {},
   "outputs": [],
   "source": [
    "# Create a dictionar of series\n",
    "d1 = {'Name':pd.Series(['Tom', 'James', 'Ricky', 'Vin', 'Steve', 'Smith', 'Jack']),\n",
    "    'Age':pd.Series([25,26,25,23,30,29,23]),\n",
    "    'Rating':pd.Series([4.23,3.24,3.98,2.56,3.20,4.6,3.8])}"
   ]
  },
  {
   "cell_type": "code",
   "execution_count": 5,
   "metadata": {},
   "outputs": [
    {
     "name": "stdout",
     "output_type": "stream",
     "text": [
      "Our data series is:\n",
      "   Age   Name  Rating\n",
      "0   25    Tom    4.23\n",
      "1   26  James    3.24\n",
      "2   25  Ricky    3.98\n",
      "3   23    Vin    2.56\n",
      "4   30  Steve    3.20\n",
      "5   29  Smith    4.60\n",
      "6   23   Jack    3.80\n"
     ]
    }
   ],
   "source": [
    "# Create a DataFrame\n",
    "df1 = pd.DataFrame(d1)\n",
    "print(\"Our data series is:\")\n",
    "print(df1)"
   ]
  },
  {
   "cell_type": "code",
   "execution_count": 6,
   "metadata": {},
   "outputs": [
    {
     "name": "stdout",
     "output_type": "stream",
     "text": [
      "The transpose of the DataFrame is:\n",
      "           0      1      2     3      4      5     6\n",
      "Age       25     26     25    23     30     29    23\n",
      "Name     Tom  James  Ricky   Vin  Steve  Smith  Jack\n",
      "Rating  4.23   3.24   3.98  2.56    3.2    4.6   3.8\n"
     ]
    }
   ],
   "source": [
    "# Transpose\n",
    "print(\"The transpose of the DataFrame is:\")\n",
    "print(df1.T)"
   ]
  },
  {
   "cell_type": "code",
   "execution_count": 7,
   "metadata": {},
   "outputs": [
    {
     "name": "stdout",
     "output_type": "stream",
     "text": [
      "Row axis labels and column axis labels are:\n",
      "[RangeIndex(start=0, stop=7, step=1), Index(['Age', 'Name', 'Rating'], dtype='object')]\n"
     ]
    }
   ],
   "source": [
    "# axes\n",
    "print(\"Row axis labels and column axis labels are:\")\n",
    "print(df1.axes)"
   ]
  },
  {
   "cell_type": "code",
   "execution_count": 8,
   "metadata": {},
   "outputs": [
    {
     "name": "stdout",
     "output_type": "stream",
     "text": [
      "The data types of each column are:\n",
      "Age         int64\n",
      "Name       object\n",
      "Rating    float64\n",
      "dtype: object\n"
     ]
    }
   ],
   "source": [
    "# dtypes\n",
    "print(\"The data types of each column are:\")\n",
    "print(df1.dtypes)"
   ]
  },
  {
   "cell_type": "code",
   "execution_count": 9,
   "metadata": {},
   "outputs": [
    {
     "name": "stdout",
     "output_type": "stream",
     "text": [
      "Is the object empty?\n",
      "False\n"
     ]
    }
   ],
   "source": [
    "# empty\n",
    "print(\"Is the object empty?\")\n",
    "print(df1.empty)"
   ]
  },
  {
   "cell_type": "code",
   "execution_count": 10,
   "metadata": {},
   "outputs": [],
   "source": [
    "# create an empty DataFrame\n",
    "df2= pd.DataFrame()"
   ]
  },
  {
   "cell_type": "code",
   "execution_count": 11,
   "metadata": {},
   "outputs": [
    {
     "name": "stdout",
     "output_type": "stream",
     "text": [
      "Is the object empty?\n",
      "True\n"
     ]
    }
   ],
   "source": [
    "print(\"Is the object empty?\")\n",
    "print(df2.empty)"
   ]
  },
  {
   "cell_type": "code",
   "execution_count": 13,
   "metadata": {},
   "outputs": [
    {
     "name": "stdout",
     "output_type": "stream",
     "text": [
      "Our object is:\n",
      "   Age   Name  Rating\n",
      "0   25    Tom    4.23\n",
      "1   26  James    3.24\n",
      "2   25  Ricky    3.98\n",
      "3   23    Vin    2.56\n",
      "4   30  Steve    3.20\n",
      "5   29  Smith    4.60\n",
      "6   23   Jack    3.80\n",
      "The dimension of the object is:\n",
      "2\n"
     ]
    }
   ],
   "source": [
    "# ndim\n",
    "print(\"Our object is:\")\n",
    "print(df1)\n",
    "\n",
    "print(\"The dimension of the object is:\")\n",
    "print(df1.ndim)"
   ]
  },
  {
   "cell_type": "code",
   "execution_count": 16,
   "metadata": {},
   "outputs": [
    {
     "name": "stdout",
     "output_type": "stream",
     "text": [
      "The shape of the object is:\n",
      "(7, 3)\n"
     ]
    }
   ],
   "source": [
    "# shape (rows, columns)\n",
    "print(\"The shape of the object is:\")\n",
    "print(df1.shape)"
   ]
  },
  {
   "cell_type": "code",
   "execution_count": 18,
   "metadata": {},
   "outputs": [
    {
     "name": "stdout",
     "output_type": "stream",
     "text": [
      "The total number of elements in our object is:\n",
      "21\n"
     ]
    }
   ],
   "source": [
    "# size (total no. of elements)\n",
    "print(\"The total number of elements in our object is:\")\n",
    "print(df1.size)"
   ]
  },
  {
   "cell_type": "code",
   "execution_count": 19,
   "metadata": {},
   "outputs": [
    {
     "name": "stdout",
     "output_type": "stream",
     "text": [
      "The actual data in our data frame is:\n",
      "[[25 'Tom' 4.23]\n",
      " [26 'James' 3.24]\n",
      " [25 'Ricky' 3.98]\n",
      " [23 'Vin' 2.56]\n",
      " [30 'Steve' 3.2]\n",
      " [29 'Smith' 4.6]\n",
      " [23 'Jack' 3.8]]\n"
     ]
    }
   ],
   "source": [
    "# values\n",
    "print(\"The actual data in our data frame is:\")\n",
    "print(df1.values)"
   ]
  },
  {
   "cell_type": "code",
   "execution_count": 21,
   "metadata": {},
   "outputs": [
    {
     "name": "stdout",
     "output_type": "stream",
     "text": [
      "Our data frame is:\n",
      "   Age   Name  Rating\n",
      "0   25    Tom    4.23\n",
      "1   26  James    3.24\n",
      "2   25  Ricky    3.98\n",
      "3   23    Vin    2.56\n",
      "4   30  Steve    3.20\n",
      "5   29  Smith    4.60\n",
      "6   23   Jack    3.80\n",
      "The first two rows of the data frame is:\n",
      "   Age   Name  Rating\n",
      "0   25    Tom    4.23\n",
      "1   26  James    3.24\n"
     ]
    }
   ],
   "source": [
    "# Head()\n",
    "print(\"Our data frame is:\")\n",
    "print(df1)\n",
    "\n",
    "print(\"The first two rows of the data frame is:\")\n",
    "print(df1.head(2))"
   ]
  },
  {
   "cell_type": "code",
   "execution_count": 22,
   "metadata": {},
   "outputs": [
    {
     "name": "stdout",
     "output_type": "stream",
     "text": [
      "The last two three of the data frame is:\n",
      "   Age   Name  Rating\n",
      "4   30  Steve     3.2\n",
      "5   29  Smith     4.6\n",
      "6   23   Jack     3.8\n"
     ]
    }
   ],
   "source": [
    "# tail()\n",
    "print(\"The last two three of the data frame is:\")\n",
    "print(df1.tail(3))"
   ]
  },
  {
   "cell_type": "code",
   "execution_count": null,
   "metadata": {},
   "outputs": [],
   "source": []
  }
 ],
 "metadata": {
  "kernelspec": {
   "display_name": "Python 3",
   "language": "python",
   "name": "python3"
  },
  "language_info": {
   "codemirror_mode": {
    "name": "ipython",
    "version": 3
   },
   "file_extension": ".py",
   "mimetype": "text/x-python",
   "name": "python",
   "nbconvert_exporter": "python",
   "pygments_lexer": "ipython3",
   "version": "3.6.4"
  }
 },
 "nbformat": 4,
 "nbformat_minor": 2
}
