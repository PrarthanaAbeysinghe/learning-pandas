{
 "cells": [
  {
   "cell_type": "code",
   "execution_count": 8,
   "metadata": {},
   "outputs": [],
   "source": [
    "# .rolling() function --> can be applied on a series of data. specify the window=n argument and\n",
    "#                         apply the appropriate statistical function on top of it\n",
    "# window functions --> are majorly used in finding the trends within the data graphically by smoothing the curve\n",
    "# if there is a lot of variation in the everyday data and a lot of data points are available, then [taking the samples and\n",
    "# plotting is one method] and [applying the window computations and plotting the graph on the results is another method].\n",
    "\n",
    "import pandas as pd\n",
    "import numpy as np"
   ]
  },
  {
   "cell_type": "code",
   "execution_count": 9,
   "metadata": {},
   "outputs": [
    {
     "name": "stdout",
     "output_type": "stream",
     "text": [
      "                   A         B         C         D\n",
      "2000-01-01  0.242624  0.439944 -0.887123 -0.180401\n",
      "2000-01-02  0.542577  0.375670 -0.164676  0.724080\n",
      "2000-01-03  0.596979  1.033803 -2.106914 -0.108817\n",
      "2000-01-04 -1.184906 -1.032601  0.074754  0.206908\n",
      "2000-01-05 -0.220863 -0.789270 -1.265265 -0.579036\n",
      "2000-01-06  0.056177 -0.827134  0.803273  1.271675\n",
      "2000-01-07  2.708434  0.436382 -1.004207 -2.465463\n",
      "2000-01-08  0.589669  0.052587  1.360190 -0.457894\n",
      "2000-01-09 -0.607718  0.160549 -0.556760  0.025986\n",
      "2000-01-10  1.293407 -0.838204  1.477919 -1.713844\n",
      "                   A         B         C         D\n",
      "2000-01-01       NaN       NaN       NaN       NaN\n",
      "2000-01-02       NaN       NaN       NaN       NaN\n",
      "2000-01-03  0.460727  0.616472 -1.052904  0.144954\n",
      "2000-01-04 -0.015117  0.125624 -0.732278  0.274057\n",
      "2000-01-05 -0.269597 -0.262689 -1.099141 -0.160315\n",
      "2000-01-06 -0.449864 -0.883002 -0.129079  0.299849\n",
      "2000-01-07  0.847916 -0.393340 -0.488733 -0.590941\n",
      "2000-01-08  1.118094 -0.112722  0.386418 -0.550561\n",
      "2000-01-09  0.896795  0.216506 -0.066926 -0.965790\n",
      "2000-01-10  0.425119 -0.208356  0.760450 -0.715251\n"
     ]
    }
   ],
   "source": [
    "df1= pd.DataFrame(np.random.randn(10, 4),\n",
    "                 index= pd.date_range('1/1/2000', periods=10),\n",
    "                 columns=['A', 'B', 'C', 'D'])\n",
    "print(df1)\n",
    "# since the window size is 3, for first two elements there are nulls and from thist the value will be\n",
    "# the average of the n, n-1 and n-2 elements.\n",
    "print(df1.rolling(window=3).mean())"
   ]
  },
  {
   "cell_type": "code",
   "execution_count": 10,
   "metadata": {},
   "outputs": [
    {
     "name": "stdout",
     "output_type": "stream",
     "text": [
      "                   A         B         C         D\n",
      "2000-01-01       NaN       NaN       NaN       NaN\n",
      "2000-01-02       NaN       NaN       NaN       NaN\n",
      "2000-01-03  0.460727  0.616472 -1.052904  0.144954\n",
      "2000-01-04  0.049318  0.204204 -0.770989  0.160443\n",
      "2000-01-05 -0.004718  0.005509 -0.869845  0.012547\n",
      "2000-01-06  0.005431 -0.133265 -0.590992  0.222402\n",
      "2000-01-07  0.391575 -0.051887 -0.650022 -0.161579\n",
      "2000-01-08  0.416336 -0.038827 -0.398746 -0.198619\n",
      "2000-01-09  0.302553 -0.016674 -0.416303 -0.173662\n",
      "2000-01-10  0.401638 -0.098827 -0.226881 -0.327681\n"
     ]
    }
   ],
   "source": [
    "# .expanding() function --> specify the min_periods=n argument and apply the appropriate statistical function\n",
    "print(df1.expanding(min_periods=3).mean())"
   ]
  },
  {
   "cell_type": "code",
   "execution_count": 11,
   "metadata": {},
   "outputs": [
    {
     "name": "stdout",
     "output_type": "stream",
     "text": [
      "                   A         B         C         D\n",
      "2000-01-01  0.242624  0.439944 -0.887123 -0.180401\n",
      "2000-01-02  0.467589  0.391738 -0.345287  0.497960\n",
      "2000-01-03  0.557167  0.836245 -1.564875  0.077884\n",
      "2000-01-04 -0.618733 -0.425226 -0.458125  0.164975\n",
      "2000-01-05 -0.352390 -0.668925 -0.998442 -0.333082\n",
      "2000-01-06 -0.079638 -0.774543  0.204351  0.738225\n",
      "2000-01-07  1.779927  0.033110 -0.601723 -1.398544\n",
      "2000-01-08  0.986301  0.046097  0.706418 -0.771349\n",
      "2000-01-09 -0.076432  0.122402 -0.135743 -0.239765\n",
      "2000-01-10  0.836809 -0.518013  0.940050 -1.222501\n"
     ]
    }
   ],
   "source": [
    "# .ewm() function --> specify any of the com, span, halflife argument and apply the appropriate statistical function\n",
    "# it assigns the weights exponentially\n",
    "print(df1.ewm(com=0.5).mean())"
   ]
  },
  {
   "cell_type": "code",
   "execution_count": null,
   "metadata": {},
   "outputs": [],
   "source": []
  }
 ],
 "metadata": {
  "kernelspec": {
   "display_name": "Python 3",
   "language": "python",
   "name": "python3"
  },
  "language_info": {
   "codemirror_mode": {
    "name": "ipython",
    "version": 3
   },
   "file_extension": ".py",
   "mimetype": "text/x-python",
   "name": "python",
   "nbconvert_exporter": "python",
   "pygments_lexer": "ipython3",
   "version": "3.6.4"
  }
 },
 "nbformat": 4,
 "nbformat_minor": 2
}
