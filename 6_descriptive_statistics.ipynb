{
 "cells": [
  {
   "cell_type": "code",
   "execution_count": 1,
   "metadata": {},
   "outputs": [],
   "source": [
    "import pandas as pd\n",
    "import numpy as np"
   ]
  },
  {
   "cell_type": "code",
   "execution_count": 2,
   "metadata": {},
   "outputs": [
    {
     "name": "stdout",
     "output_type": "stream",
     "text": [
      "    Age    Name  Rating\n",
      "0    25     Tom    4.23\n",
      "1    26   James    3.24\n",
      "2    25   Ricky    3.98\n",
      "3    23     Vin    2.56\n",
      "4    30   Steve    3.20\n",
      "5    29   Smith    4.60\n",
      "6    23    Jack    3.80\n",
      "7    34     Lee    3.78\n",
      "8    40   David    2.98\n",
      "9    30  Gasper    4.80\n",
      "10   51  Betina    4.10\n",
      "11   46  Andres    3.65\n"
     ]
    }
   ],
   "source": [
    "# create a Dict of series\n",
    "d1 = {'Name':pd.Series(['Tom', 'James', 'Ricky', 'Vin', 'Steve', 'Smith', 'Jack', 'Lee', 'David', 'Gasper', 'Betina', 'Andres']),\n",
    "     'Age':pd.Series([25,26,25,23,30,29,23,34,40,30,51,46]),\n",
    "     'Rating':pd.Series([4.23,3.24,3.98,2.56,3.20,4.6,3.8,3.78,2.98,4.80,4.10,3.65])}\n",
    "\n",
    "# create a DataFrame\n",
    "df1 = pd.DataFrame(d1)\n",
    "print(df1)"
   ]
  },
  {
   "cell_type": "code",
   "execution_count": 4,
   "metadata": {},
   "outputs": [
    {
     "name": "stdout",
     "output_type": "stream",
     "text": [
      "Age                                                     382\n",
      "Name      TomJamesRickyVinSteveSmithJackLeeDavidGasperBe...\n",
      "Rating                                                44.92\n",
      "dtype: object\n"
     ]
    }
   ],
   "source": [
    "# sum() -> each individual column is added individually\n",
    "print(df1.sum())"
   ]
  },
  {
   "cell_type": "code",
   "execution_count": 7,
   "metadata": {},
   "outputs": [
    {
     "name": "stdout",
     "output_type": "stream",
     "text": [
      "0     29.23\n",
      "1     29.24\n",
      "2     28.98\n",
      "3     25.56\n",
      "4     33.20\n",
      "5     33.60\n",
      "6     26.80\n",
      "7     37.78\n",
      "8     42.98\n",
      "9     34.80\n",
      "10    55.10\n",
      "11    49.65\n",
      "dtype: float64\n"
     ]
    }
   ],
   "source": [
    "# sum(axis) -> axis=1\n",
    "print(df1.sum(1))"
   ]
  },
  {
   "cell_type": "code",
   "execution_count": 8,
   "metadata": {},
   "outputs": [
    {
     "name": "stdout",
     "output_type": "stream",
     "text": [
      "Age       31.833333\n",
      "Rating     3.743333\n",
      "dtype: float64\n"
     ]
    }
   ],
   "source": [
    "# mean()\n",
    "print(df1.mean())"
   ]
  },
  {
   "cell_type": "code",
   "execution_count": 9,
   "metadata": {},
   "outputs": [
    {
     "name": "stdout",
     "output_type": "stream",
     "text": [
      "Age       9.232682\n",
      "Rating    0.661628\n",
      "dtype: float64\n"
     ]
    }
   ],
   "source": [
    "# std() -> the Bressel standarad deviation of the numerical columns\n",
    "print(df1.std())"
   ]
  },
  {
   "cell_type": "code",
   "execution_count": 10,
   "metadata": {},
   "outputs": [
    {
     "name": "stdout",
     "output_type": "stream",
     "text": [
      "             Age     Rating\n",
      "count  12.000000  12.000000\n",
      "mean   31.833333   3.743333\n",
      "std     9.232682   0.661628\n",
      "min    23.000000   2.560000\n",
      "25%    25.000000   3.230000\n",
      "50%    29.500000   3.790000\n",
      "75%    35.500000   4.132500\n",
      "max    51.000000   4.800000\n"
     ]
    }
   ],
   "source": [
    "# Summarizing Data\n",
    "# describe() -> computes a summary of statistics pertaining to the DataFrame columns\n",
    "print(df1.describe())"
   ]
  },
  {
   "cell_type": "code",
   "execution_count": 11,
   "metadata": {},
   "outputs": [],
   "source": [
    "# sum(), cumsum() -> work with both numeric and character (or) string data elements\n",
    "# abs(), cumprod() -> throw exception when the DataFrame contains character or string data (such operations cannot be performed)"
   ]
  },
  {
   "cell_type": "code",
   "execution_count": 17,
   "metadata": {},
   "outputs": [
    {
     "name": "stdout",
     "output_type": "stream",
     "text": [
      "          Name\n",
      "count       12\n",
      "unique      12\n",
      "top     Gasper\n",
      "freq         1\n"
     ]
    }
   ],
   "source": [
    "# describe() with argument 'include'\n",
    "# include contains =>\n",
    "# object - summarizes string columns\n",
    "# number - summarizes numeric columns (DEFAULT)\n",
    "# all - summarizes all columns together (should not pass it as a list value)\n",
    "print(df1.describe(include=['object']))"
   ]
  },
  {
   "cell_type": "code",
   "execution_count": 16,
   "metadata": {},
   "outputs": [
    {
     "name": "stdout",
     "output_type": "stream",
     "text": [
      "             Age     Rating\n",
      "count  12.000000  12.000000\n",
      "mean   31.833333   3.743333\n",
      "std     9.232682   0.661628\n",
      "min    23.000000   2.560000\n",
      "25%    25.000000   3.230000\n",
      "50%    29.500000   3.790000\n",
      "75%    35.500000   4.132500\n",
      "max    51.000000   4.800000\n"
     ]
    }
   ],
   "source": [
    "print(df1.describe(include=['number']))"
   ]
  },
  {
   "cell_type": "code",
   "execution_count": 21,
   "metadata": {},
   "outputs": [
    {
     "name": "stdout",
     "output_type": "stream",
     "text": [
      "    Age    Name  Rating\n",
      "0    25     Tom    4.23\n",
      "1    26   James    3.24\n",
      "2    25   Ricky    3.98\n",
      "3    23     Vin    2.56\n",
      "4    30   Steve    3.20\n",
      "5    29   Smith    4.60\n",
      "6    23    Jack    3.80\n",
      "7    34     Lee    3.78\n",
      "8    40   David    2.98\n",
      "9    30  Gasper    4.80\n",
      "10   51  Betina    4.10\n",
      "11   46  Andres    3.65\n",
      "              Age    Name     Rating\n",
      "count   12.000000      12  12.000000\n",
      "unique        NaN      12        NaN\n",
      "top           NaN  Gasper        NaN\n",
      "freq          NaN       1        NaN\n",
      "mean    31.833333     NaN   3.743333\n",
      "std      9.232682     NaN   0.661628\n",
      "min     23.000000     NaN   2.560000\n",
      "25%     25.000000     NaN   3.230000\n",
      "50%     29.500000     NaN   3.790000\n",
      "75%     35.500000     NaN   4.132500\n",
      "max     51.000000     NaN   4.800000\n"
     ]
    }
   ],
   "source": [
    "print(df1)\n",
    "# should not pass it as a list value\n",
    "print(df1.describe(include='all')) "
   ]
  },
  {
   "cell_type": "code",
   "execution_count": null,
   "metadata": {},
   "outputs": [],
   "source": []
  }
 ],
 "metadata": {
  "kernelspec": {
   "display_name": "Python 3",
   "language": "python",
   "name": "python3"
  },
  "language_info": {
   "codemirror_mode": {
    "name": "ipython",
    "version": 3
   },
   "file_extension": ".py",
   "mimetype": "text/x-python",
   "name": "python",
   "nbconvert_exporter": "python",
   "pygments_lexer": "ipython3",
   "version": "3.6.4"
  }
 },
 "nbformat": 4,
 "nbformat_minor": 2
}
