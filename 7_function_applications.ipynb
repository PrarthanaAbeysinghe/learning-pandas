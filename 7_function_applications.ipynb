{
 "cells": [
  {
   "cell_type": "code",
   "execution_count": 1,
   "metadata": {},
   "outputs": [],
   "source": [
    "# pipe() -> table wise function application\n",
    "# apply() -> row or column wise function application\n",
    "# applymap() -> element wise function application"
   ]
  },
  {
   "cell_type": "code",
   "execution_count": 2,
   "metadata": {},
   "outputs": [],
   "source": [
    "import pandas as pd\n",
    "import numpy as np"
   ]
  },
  {
   "cell_type": "code",
   "execution_count": 7,
   "metadata": {},
   "outputs": [
    {
     "name": "stdout",
     "output_type": "stream",
     "text": [
      "       col1      col2      col3\n",
      "0 -0.577509  1.118629  1.127331\n",
      "1  1.530498  0.492201 -0.277233\n",
      "2 -0.276968 -1.746542  0.270122\n",
      "3 -0.116925  1.208446  1.552277\n",
      "4  0.765003  0.964277  0.185169\n",
      "After calling Adder fun:\n",
      "       col1      col2      col3\n",
      "0  1.422491  3.118629  3.127331\n",
      "1  3.530498  2.492201  1.722767\n",
      "2  1.723032  0.253458  2.270122\n",
      "3  1.883075  3.208446  3.552277\n",
      "4  2.765003  2.964277  2.185169\n"
     ]
    }
   ],
   "source": [
    "def adder(ele1, ele2):\n",
    "    return ele1+ele2\n",
    "\n",
    "df1 = pd.DataFrame(np.random.randn(5,3), columns=['col1', 'col2', 'col3'])\n",
    "print(df1)\n",
    "print(\"After calling Adder fun:\")\n",
    "print(df1.pipe(adder, 2))"
   ]
  },
  {
   "cell_type": "code",
   "execution_count": 14,
   "metadata": {},
   "outputs": [
    {
     "name": "stdout",
     "output_type": "stream",
     "text": [
      "col1    0.264820\n",
      "col2    0.407402\n",
      "col3    0.571533\n",
      "dtype: float64\n"
     ]
    }
   ],
   "source": [
    "df1.apply(np.mean, axis=1)\n",
    "print(df1.apply(np.mean))"
   ]
  },
  {
   "cell_type": "code",
   "execution_count": null,
   "metadata": {},
   "outputs": [],
   "source": []
  }
 ],
 "metadata": {
  "kernelspec": {
   "display_name": "Python 3",
   "language": "python",
   "name": "python3"
  },
  "language_info": {
   "codemirror_mode": {
    "name": "ipython",
    "version": 3
   },
   "file_extension": ".py",
   "mimetype": "text/x-python",
   "name": "python",
   "nbconvert_exporter": "python",
   "pygments_lexer": "ipython3",
   "version": "3.6.4"
  }
 },
 "nbformat": 4,
 "nbformat_minor": 2
}
