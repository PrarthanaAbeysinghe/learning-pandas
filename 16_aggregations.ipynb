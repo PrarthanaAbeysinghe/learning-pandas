{
 "cells": [
  {
   "cell_type": "code",
   "execution_count": 1,
   "metadata": {},
   "outputs": [],
   "source": [
    "# Once the rolling, expanding and ewm objects are created, several methods are available to\n",
    "# perform aggregations on data.\n",
    "import pandas as pd\n",
    "import numpy as np"
   ]
  },
  {
   "cell_type": "code",
   "execution_count": 2,
   "metadata": {},
   "outputs": [
    {
     "name": "stdout",
     "output_type": "stream",
     "text": [
      "                   A         B         C         D\n",
      "2000-01-01 -0.307631  0.266040  0.390608  0.640092\n",
      "2000-01-02 -1.610482  0.637474  0.835536 -0.144997\n",
      "2000-01-03  0.360429  0.151853  0.374995 -0.001983\n",
      "2000-01-04  0.504240  0.716215  0.137235 -0.365174\n",
      "2000-01-05  1.974717  0.100391 -0.850675  1.830008\n",
      "2000-01-06  2.397902 -0.314852 -1.576036 -0.601391\n",
      "2000-01-07  1.511968  0.957981  0.938432 -0.356741\n",
      "2000-01-08  1.047766 -0.405296 -0.612296  0.233484\n",
      "2000-01-09  0.734660 -0.247522 -0.647175 -0.683641\n",
      "2000-01-10 -0.402213  0.268116  0.660319 -0.141940\n",
      "Rolling [window=3,min_periods=1,center=False,axis=0]\n"
     ]
    }
   ],
   "source": [
    "df1 = pd.DataFrame(np.random.randn(10, 4),\n",
    "                  index=pd.date_range('1/1/2000', periods=10),\n",
    "                  columns=['A', 'B', 'C', 'D'])\n",
    "print(df1)\n",
    "r1 = df1.rolling(window=3, min_periods=1)\n",
    "print(r1)"
   ]
  },
  {
   "cell_type": "code",
   "execution_count": 3,
   "metadata": {},
   "outputs": [
    {
     "name": "stdout",
     "output_type": "stream",
     "text": [
      "                   A         B         C         D\n",
      "2000-01-01 -0.307631  0.266040  0.390608  0.640092\n",
      "2000-01-02 -1.918114  0.903514  1.226144  0.495095\n",
      "2000-01-03 -1.557685  1.055367  1.601138  0.493112\n",
      "2000-01-04 -0.745813  1.505542  1.347765 -0.512154\n",
      "2000-01-05  2.839385  0.968459 -0.338446  1.462851\n",
      "2000-01-06  4.876858  0.501754 -2.289476  0.863444\n",
      "2000-01-07  5.884587  0.743520 -1.488279  0.871877\n",
      "2000-01-08  4.957637  0.237833 -1.249900 -0.724647\n",
      "2000-01-09  3.294395  0.305163 -0.321040 -0.806897\n",
      "2000-01-10  1.380213 -0.384701 -0.599152 -0.592097\n"
     ]
    }
   ],
   "source": [
    "# apply aggregation on a whole DataFrame\n",
    "print(r1.aggregate(np.sum))"
   ]
  },
  {
   "cell_type": "code",
   "execution_count": 4,
   "metadata": {},
   "outputs": [
    {
     "name": "stdout",
     "output_type": "stream",
     "text": [
      "2000-01-01   -0.307631\n",
      "2000-01-02   -1.918114\n",
      "2000-01-03   -1.557685\n",
      "2000-01-04   -0.745813\n",
      "2000-01-05    2.839385\n",
      "2000-01-06    4.876858\n",
      "2000-01-07    5.884587\n",
      "2000-01-08    4.957637\n",
      "2000-01-09    3.294395\n",
      "2000-01-10    1.380213\n",
      "Freq: D, Name: A, dtype: float64\n"
     ]
    }
   ],
   "source": [
    "# apply aggregation on a single column of a DataFrame\n",
    "print(r1['A'].aggregate(np.sum))"
   ]
  },
  {
   "cell_type": "code",
   "execution_count": 5,
   "metadata": {},
   "outputs": [
    {
     "name": "stdout",
     "output_type": "stream",
     "text": [
      "                   A         B\n",
      "2000-01-01 -0.307631  0.266040\n",
      "2000-01-02 -1.918114  0.903514\n",
      "2000-01-03 -1.557685  1.055367\n",
      "2000-01-04 -0.745813  1.505542\n",
      "2000-01-05  2.839385  0.968459\n",
      "2000-01-06  4.876858  0.501754\n",
      "2000-01-07  5.884587  0.743520\n",
      "2000-01-08  4.957637  0.237833\n",
      "2000-01-09  3.294395  0.305163\n",
      "2000-01-10  1.380213 -0.384701\n"
     ]
    }
   ],
   "source": [
    "# apply aggregation on multiple columns of a DataFrame\n",
    "print(r1[['A', 'B']].aggregate(np.sum))"
   ]
  },
  {
   "cell_type": "code",
   "execution_count": 6,
   "metadata": {},
   "outputs": [
    {
     "name": "stdout",
     "output_type": "stream",
     "text": [
      "                 sum      mean\n",
      "2000-01-01 -0.307631 -0.307631\n",
      "2000-01-02 -1.918114 -0.959057\n",
      "2000-01-03 -1.557685 -0.519228\n",
      "2000-01-04 -0.745813 -0.248604\n",
      "2000-01-05  2.839385  0.946462\n",
      "2000-01-06  4.876858  1.625619\n",
      "2000-01-07  5.884587  1.961529\n",
      "2000-01-08  4.957637  1.652546\n",
      "2000-01-09  3.294395  1.098132\n",
      "2000-01-10  1.380213  0.460071\n"
     ]
    }
   ],
   "source": [
    "# apply multiple function on a single column of a DataFrame\n",
    "print(r1['A'].aggregate([np.sum, np.mean]))"
   ]
  },
  {
   "cell_type": "code",
   "execution_count": 7,
   "metadata": {},
   "outputs": [
    {
     "name": "stdout",
     "output_type": "stream",
     "text": [
      "                   A         B         C         D\n",
      "2000-01-01 -0.307631  0.266040  0.390608  0.640092\n",
      "2000-01-02 -1.610482  0.637474  0.835536 -0.144997\n",
      "2000-01-03  0.360429  0.151853  0.374995 -0.001983\n",
      "2000-01-04  0.504240  0.716215  0.137235 -0.365174\n",
      "2000-01-05  1.974717  0.100391 -0.850675  1.830008\n",
      "2000-01-06  2.397902 -0.314852 -1.576036 -0.601391\n",
      "2000-01-07  1.511968  0.957981  0.938432 -0.356741\n",
      "2000-01-08  1.047766 -0.405296 -0.612296  0.233484\n",
      "2000-01-09  0.734660 -0.247522 -0.647175 -0.683641\n",
      "2000-01-10 -0.402213  0.268116  0.660319 -0.141940\n",
      "                   A                   B          \n",
      "                 sum      mean       sum      mean\n",
      "2000-01-01 -0.307631 -0.307631  0.266040  0.266040\n",
      "2000-01-02 -1.918114 -0.959057  0.903514  0.451757\n",
      "2000-01-03 -1.557685 -0.519228  1.055367  0.351789\n",
      "2000-01-04 -0.745813 -0.248604  1.505542  0.501847\n",
      "2000-01-05  2.839385  0.946462  0.968459  0.322820\n",
      "2000-01-06  4.876858  1.625619  0.501754  0.167251\n",
      "2000-01-07  5.884587  1.961529  0.743520  0.247840\n",
      "2000-01-08  4.957637  1.652546  0.237833  0.079278\n",
      "2000-01-09  3.294395  1.098132  0.305163  0.101721\n",
      "2000-01-10  1.380213  0.460071 -0.384701 -0.128234\n"
     ]
    }
   ],
   "source": [
    "# apply multiple functions on multiple columns of a DataFrame\n",
    "print(df1)\n",
    "print(r1[['A', 'B']].aggregate([np.sum, np.mean]))"
   ]
  },
  {
   "cell_type": "code",
   "execution_count": 8,
   "metadata": {},
   "outputs": [
    {
     "name": "stdout",
     "output_type": "stream",
     "text": [
      "                   A         B\n",
      "2000-01-01 -0.307631  0.266040\n",
      "2000-01-02 -1.918114  0.451757\n",
      "2000-01-03 -1.557685  0.351789\n",
      "2000-01-04 -0.745813  0.501847\n",
      "2000-01-05  2.839385  0.322820\n",
      "2000-01-06  4.876858  0.167251\n",
      "2000-01-07  5.884587  0.247840\n",
      "2000-01-08  4.957637  0.079278\n",
      "2000-01-09  3.294395  0.101721\n",
      "2000-01-10  1.380213 -0.128234\n"
     ]
    }
   ],
   "source": [
    "# apply different functions to different columns of a DataFrame\n",
    "print(r1.aggregate({'A': np.sum, 'B': np.mean}))"
   ]
  },
  {
   "cell_type": "code",
   "execution_count": null,
   "metadata": {},
   "outputs": [],
   "source": []
  }
 ],
 "metadata": {
  "kernelspec": {
   "display_name": "Python 3",
   "language": "python",
   "name": "python3"
  },
  "language_info": {
   "codemirror_mode": {
    "name": "ipython",
    "version": 3
   },
   "file_extension": ".py",
   "mimetype": "text/x-python",
   "name": "python",
   "nbconvert_exporter": "python",
   "pygments_lexer": "ipython3",
   "version": "3.6.4"
  }
 },
 "nbformat": 4,
 "nbformat_minor": 2
}
