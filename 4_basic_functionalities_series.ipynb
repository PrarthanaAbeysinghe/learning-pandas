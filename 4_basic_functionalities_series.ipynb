{
 "cells": [
  {
   "cell_type": "code",
   "execution_count": 1,
   "metadata": {},
   "outputs": [],
   "source": [
    "# Attribute/Method\n",
    "# axes - returns a list of the row axis labels\n",
    "# dtype - returns the dtype of the object\n",
    "# empty - returns True if series is empty\n",
    "# ndim - returns the number of dimensions of the underlying data, by definition 1\n",
    "# size - returns the number of elements in the underlying data\n",
    "# values - returns the series as ndarray\n",
    "# head() - returns the first n rows\n",
    "# tali() - returns the last n rows"
   ]
  },
  {
   "cell_type": "code",
   "execution_count": 2,
   "metadata": {},
   "outputs": [],
   "source": [
    "import pandas as pd\n",
    "import numpy as np"
   ]
  },
  {
   "cell_type": "code",
   "execution_count": 3,
   "metadata": {},
   "outputs": [
    {
     "name": "stdout",
     "output_type": "stream",
     "text": [
      "0    1.044800\n",
      "1    2.006906\n",
      "2   -0.510219\n",
      "3   -0.397363\n",
      "dtype: float64\n"
     ]
    }
   ],
   "source": [
    "# Create a series with 4 random numbers\n",
    "s1 = pd.Series(np.random.randn(4))\n",
    "print(s1)"
   ]
  },
  {
   "cell_type": "code",
   "execution_count": 4,
   "metadata": {},
   "outputs": [
    {
     "name": "stdout",
     "output_type": "stream",
     "text": [
      "The axes are:\n",
      "[RangeIndex(start=0, stop=4, step=1)]\n"
     ]
    }
   ],
   "source": [
    "# axes\n",
    "print(\"The axes are:\")\n",
    "print(s1.axes)"
   ]
  },
  {
   "cell_type": "code",
   "execution_count": 5,
   "metadata": {},
   "outputs": [
    {
     "name": "stdout",
     "output_type": "stream",
     "text": [
      "Is the object empty?\n",
      "False\n"
     ]
    }
   ],
   "source": [
    "# empty\n",
    "print(\"Is the object empty?\")\n",
    "print(s1.empty)"
   ]
  },
  {
   "cell_type": "code",
   "execution_count": 6,
   "metadata": {},
   "outputs": [
    {
     "name": "stdout",
     "output_type": "stream",
     "text": [
      "The dimensions of the object:\n",
      "1\n"
     ]
    }
   ],
   "source": [
    "# ndim\n",
    "print(\"The dimensions of the object:\")\n",
    "print(s1.ndim)"
   ]
  },
  {
   "cell_type": "code",
   "execution_count": 7,
   "metadata": {},
   "outputs": [
    {
     "name": "stdout",
     "output_type": "stream",
     "text": [
      "The size of the object:\n",
      "4\n"
     ]
    }
   ],
   "source": [
    "# size\n",
    "print(\"The size of the object:\")\n",
    "print(s1.size)"
   ]
  },
  {
   "cell_type": "code",
   "execution_count": 8,
   "metadata": {},
   "outputs": [
    {
     "name": "stdout",
     "output_type": "stream",
     "text": [
      "The actual data series is:\n",
      "[ 1.04480002  2.00690575 -0.51021926 -0.39736306]\n"
     ]
    }
   ],
   "source": [
    "# values\n",
    "print(\"The actual data series is:\")\n",
    "print(s1.values)"
   ]
  },
  {
   "cell_type": "code",
   "execution_count": 12,
   "metadata": {},
   "outputs": [
    {
     "name": "stdout",
     "output_type": "stream",
     "text": [
      "The first two rows of the data series:\n",
      "0    1.044800\n",
      "1    2.006906\n",
      "dtype: float64\n"
     ]
    }
   ],
   "source": [
    "# head(n) -> where n is the number of rows\n",
    "print(\"The first two rows of the data series:\")\n",
    "print(s1.head(2))"
   ]
  },
  {
   "cell_type": "code",
   "execution_count": 13,
   "metadata": {},
   "outputs": [
    {
     "name": "stdout",
     "output_type": "stream",
     "text": [
      "the last two rows of the data series:\n",
      "2   -0.510219\n",
      "3   -0.397363\n",
      "dtype: float64\n"
     ]
    }
   ],
   "source": [
    "# tail(n)\n",
    "print(\"the last two rows of the data series:\")\n",
    "print(s1.tail(2))"
   ]
  },
  {
   "cell_type": "code",
   "execution_count": null,
   "metadata": {},
   "outputs": [],
   "source": []
  }
 ],
 "metadata": {
  "kernelspec": {
   "display_name": "Python 3",
   "language": "python",
   "name": "python3"
  },
  "language_info": {
   "codemirror_mode": {
    "name": "ipython",
    "version": 3
   },
   "file_extension": ".py",
   "mimetype": "text/x-python",
   "name": "python",
   "nbconvert_exporter": "python",
   "pygments_lexer": "ipython3",
   "version": "3.6.4"
  }
 },
 "nbformat": 4,
 "nbformat_minor": 2
}
