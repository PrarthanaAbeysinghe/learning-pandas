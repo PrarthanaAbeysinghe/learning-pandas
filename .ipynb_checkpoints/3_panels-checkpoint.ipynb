{
 "cells": [
  {
   "cell_type": "code",
   "execution_count": 1,
   "metadata": {},
   "outputs": [],
   "source": [
    "# pandas.Panel(data, items, major_axis(rows), minor_axis(columns), dtype, copy)\n",
    "# items = each item corresponds to a Dataframe contained inside (axis=0)\n",
    "# major_axis = index(rows) of each of the DataFrames (axis=1)\n",
    "# minor_axis = columns of each of the DataFrames (axis=2)"
   ]
  },
  {
   "cell_type": "code",
   "execution_count": 2,
   "metadata": {},
   "outputs": [],
   "source": [
    "import pandas as pd\n",
    "import numpy as np"
   ]
  },
  {
   "cell_type": "code",
   "execution_count": 5,
   "metadata": {},
   "outputs": [
    {
     "name": "stdout",
     "output_type": "stream",
     "text": [
      "[[[0.9221242  0.78515746 0.06788691 0.41763909 0.16702806]\n",
      "  [0.33565992 0.72857013 0.20537741 0.32215822 0.46030018]\n",
      "  [0.22292252 0.50416239 0.04724632 0.13653187 0.10841684]\n",
      "  [0.66593686 0.07809549 0.36344113 0.75791057 0.36966532]]\n",
      "\n",
      " [[0.62226561 0.40904802 0.12741168 0.50707543 0.8806219 ]\n",
      "  [0.36184438 0.82953066 0.11034367 0.64178543 0.54884384]\n",
      "  [0.9103453  0.48180941 0.23607066 0.74958377 0.49057487]\n",
      "  [0.24192479 0.90330343 0.8038199  0.23534241 0.19323022]]]\n",
      "<class 'pandas.core.panel.Panel'>\n",
      "Dimensions: 2 (items) x 4 (major_axis) x 5 (minor_axis)\n",
      "Items axis: 0 to 1\n",
      "Major_axis axis: 0 to 3\n",
      "Minor_axis axis: 0 to 4\n"
     ]
    }
   ],
   "source": [
    "data1 = np.random.rand(2,4,5)\n",
    "p1 = pd.Panel(data1)\n",
    "print(data1)\n",
    "print(p1)"
   ]
  },
  {
   "cell_type": "code",
   "execution_count": 10,
   "metadata": {},
   "outputs": [
    {
     "name": "stdout",
     "output_type": "stream",
     "text": [
      "          0         1         2\n",
      "0  0.233840  0.082645  0.220574\n",
      "1  0.239750  0.320173  0.679433\n",
      "2  0.415291  0.069524  0.579843\n",
      "3  0.636629  0.482117  0.394382\n",
      "          0         1\n",
      "0  0.832080  0.722075\n",
      "1  0.132727  0.283983\n",
      "2  0.282840  0.235745\n",
      "3  0.929635  0.393835\n",
      "<class 'pandas.core.panel.Panel'>\n",
      "Dimensions: 2 (items) x 4 (major_axis) x 3 (minor_axis)\n",
      "Items axis: Item1 to Item2\n",
      "Major_axis axis: 0 to 3\n",
      "Minor_axis axis: 0 to 2\n"
     ]
    }
   ],
   "source": [
    "# From dict of DataFrame objects\n",
    "data2= {'Item1': pd.DataFrame(np.random.rand(4,3)),\n",
    "       'Item2': pd.DataFrame(np.random.rand(4,2))}\n",
    "p2 = pd.Panel(data2)\n",
    "print(data2['Item1'])\n",
    "print(data2['Item2'])\n",
    "print(p2)\n",
    "\n",
    "# Major_axis axis: 0 to 3 (index from 0 to 3)"
   ]
  },
  {
   "cell_type": "code",
   "execution_count": 11,
   "metadata": {},
   "outputs": [
    {
     "name": "stdout",
     "output_type": "stream",
     "text": [
      "<class 'pandas.core.panel.Panel'>\n",
      "Dimensions: 0 (items) x 0 (major_axis) x 0 (minor_axis)\n",
      "Items axis: None\n",
      "Major_axis axis: None\n",
      "Minor_axis axis: None\n"
     ]
    }
   ],
   "source": [
    "# create an Empty Panel\n",
    "p3 = pd.Panel()\n",
    "print(p3)"
   ]
  },
  {
   "cell_type": "code",
   "execution_count": 12,
   "metadata": {},
   "outputs": [
    {
     "name": "stdout",
     "output_type": "stream",
     "text": [
      "          0         1         2\n",
      "0  0.770547  0.486577  0.080509\n",
      "1  0.548591  0.687443  0.392040\n",
      "2  0.008758  0.067702  0.099449\n",
      "3  0.344422  0.037949  0.416060\n"
     ]
    }
   ],
   "source": [
    "# Select the data from the panel\n",
    "data3 = {'Item1': pd.DataFrame(np.random.rand(4, 3)),\n",
    "        'Item2': pd.DataFrame(np.random.rand(4, 2))}\n",
    "\n",
    "p4 = pd.Panel(data3)\n",
    "print(p4['Item1'])"
   ]
  },
  {
   "cell_type": "code",
   "execution_count": 13,
   "metadata": {},
   "outputs": [
    {
     "name": "stdout",
     "output_type": "stream",
     "text": [
      "<class 'pandas.core.panel.Panel'>\n",
      "Dimensions: 2 (items) x 4 (major_axis) x 3 (minor_axis)\n",
      "Items axis: Item1 to Item2\n",
      "Major_axis axis: 0 to 3\n",
      "Minor_axis axis: 0 to 2\n"
     ]
    }
   ],
   "source": [
    "print(p4)"
   ]
  },
  {
   "cell_type": "code",
   "execution_count": 14,
   "metadata": {},
   "outputs": [
    {
     "name": "stdout",
     "output_type": "stream",
     "text": [
      "          0         1   2\n",
      "0  0.187292  0.078008 NaN\n",
      "1  0.207485  0.082399 NaN\n",
      "2  0.883380  0.237213 NaN\n",
      "3  0.683433  0.449090 NaN\n"
     ]
    }
   ],
   "source": [
    "print(p4['Item2'])"
   ]
  },
  {
   "cell_type": "code",
   "execution_count": 17,
   "metadata": {},
   "outputs": [
    {
     "name": "stdout",
     "output_type": "stream",
     "text": [
      "      Item1     Item2\n",
      "0  0.548591  0.207485\n",
      "1  0.687443  0.082399\n",
      "2  0.392040       NaN\n"
     ]
    }
   ],
   "source": [
    "# Data can be accessed using the method panel.major_axis(index)\n",
    "print(p4.major_xs(1))"
   ]
  },
  {
   "cell_type": "code",
   "execution_count": 18,
   "metadata": {},
   "outputs": [
    {
     "name": "stdout",
     "output_type": "stream",
     "text": [
      "      Item1     Item2\n",
      "0  0.486577  0.078008\n",
      "1  0.687443  0.082399\n",
      "2  0.067702  0.237213\n",
      "3  0.037949  0.449090\n"
     ]
    }
   ],
   "source": [
    "# Data can be accessed using the method panel.minor_axis(index)\n",
    "print(p4.minor_xs(1))"
   ]
  },
  {
   "cell_type": "code",
   "execution_count": null,
   "metadata": {},
   "outputs": [],
   "source": []
  }
 ],
 "metadata": {
  "kernelspec": {
   "display_name": "Python 3",
   "language": "python",
   "name": "python3"
  },
  "language_info": {
   "codemirror_mode": {
    "name": "ipython",
    "version": 3
   },
   "file_extension": ".py",
   "mimetype": "text/x-python",
   "name": "python",
   "nbconvert_exporter": "python",
   "pygments_lexer": "ipython3",
   "version": "3.6.4"
  }
 },
 "nbformat": 4,
 "nbformat_minor": 2
}
